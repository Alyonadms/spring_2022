{
  "nbformat": 4,
  "nbformat_minor": 0,
  "metadata": {
    "colab": {
      "name": "Лаба 4.ipynb",
      "provenance": []
    },
    "kernelspec": {
      "name": "python3",
      "display_name": "Python 3"
    },
    "language_info": {
      "name": "python"
    }
  },
  "cells": [
    {
      "cell_type": "markdown",
      "source": [
        "1. dateCrawled: при первом сканировании этого объявления все значения полей . берутся с этой даты.\n",
        "\n",
        "2. name: \"имя\" автомобиля\n",
        "\n",
        "3. seller(продавец): частный или дилер\n",
        "\n",
        "4. offerType\n",
        "\n",
        "5. price(цена): цена по объявлению о продаже автомобиля\n",
        "\n",
        "6. abtest(воздерживаться)\n",
        "\n",
        "7. vehicleType(тип машины)\n",
        "\n",
        "8. yearOfRegistration: в каком году автомобиль был впервые зарегистрирован\n",
        "\n",
        "9. gearbox(коробка передач)\n",
        "\n",
        "10. powerPS: мощность автомобиля в л.с.\n",
        "\n",
        "11. model(модель)\n",
        "\n",
        "12. kilometer(километр): сколько километров проехала машина\n",
        "\n",
        "13. monthOfRegistration: в каком месяце автомобиль был впервые зарегистрирован\n",
        "\n",
        "14. fuelType(тип топлива)\n",
        "\n",
        "15. brand(марка)\n",
        "\n",
        "16. notRepairedDamage(не устраненные повреждения): если у автомобиля есть повреждения, которые еще не отремонтированы\n",
        "\n",
        "17. dateCreated: дата создания объявления на ebay.\n",
        "\n",
        "18. nrOfPictures : количество картинок в объявлении (к сожалению, это поле везде содержит 0 и поэтому бесполезно (ошибка сканера!))\n",
        "\n",
        "19. postalCode(почтовый код)\n",
        "\n",
        "20. lastSeenOnline : когда поисковый робот последний раз видел это объявление онлайн.\n",
        "Поля lastSeen и dateCreated можно использовать для оценки того, как долго автомобиль будет по крайней мере онлайн, прежде чем он будет продан."
      ],
      "metadata": {
        "id": "pSIe69AL3oPm"
      }
    },
    {
      "cell_type": "code",
      "source": [
        "from google.colab import drive\n",
        "drive.mount('/content/drive')"
      ],
      "metadata": {
        "colab": {
          "base_uri": "https://localhost:8080/"
        },
        "id": "XTUi7HT0LQLN",
        "outputId": "4e9a8977-0a2c-41e5-8c80-fe0a160e2613"
      },
      "execution_count": null,
      "outputs": [
        {
          "output_type": "stream",
          "name": "stdout",
          "text": [
            "Drive already mounted at /content/drive; to attempt to forcibly remount, call drive.mount(\"/content/drive\", force_remount=True).\n"
          ]
        }
      ]
    },
    {
      "cell_type": "code",
      "source": [
        "import pandas as pd\n",
        "path = \"/content/drive/MyDrive/Данные/autos.csv\"\n",
        "car_df = pd.read_csv(path, sep = \",\", encoding='latin-1')\n",
        "print(car_df.head())"
      ],
      "metadata": {
        "id": "LVSKtGi7ME7p",
        "colab": {
          "base_uri": "https://localhost:8080/"
        },
        "outputId": "c788aaf8-e384-48b8-da96-171fade55228"
      },
      "execution_count": null,
      "outputs": [
        {
          "output_type": "stream",
          "name": "stdout",
          "text": [
            "           dateCrawled                            name  seller offerType  \\\n",
            "0  2016-03-24 11:52:17                      Golf_3_1.6  privat   Angebot   \n",
            "1  2016-03-24 10:58:45            A5_Sportback_2.7_Tdi  privat   Angebot   \n",
            "2  2016-03-14 12:52:21  Jeep_Grand_Cherokee_\"Overland\"  privat   Angebot   \n",
            "3  2016-03-17 16:54:04              GOLF_4_1_4__3TÜRER  privat   Angebot   \n",
            "4  2016-03-31 17:25:20  Skoda_Fabia_1.4_TDI_PD_Classic  privat   Angebot   \n",
            "\n",
            "   price abtest vehicleType  yearOfRegistration    gearbox  powerPS  model  \\\n",
            "0    480   test         NaN                1993    manuell        0   golf   \n",
            "1  18300   test       coupe                2011    manuell      190    NaN   \n",
            "2   9800   test         suv                2004  automatik      163  grand   \n",
            "3   1500   test  kleinwagen                2001    manuell       75   golf   \n",
            "4   3600   test  kleinwagen                2008    manuell       69  fabia   \n",
            "\n",
            "   kilometer  monthOfRegistration fuelType       brand notRepairedDamage  \\\n",
            "0     150000                    0   benzin  volkswagen               NaN   \n",
            "1     125000                    5   diesel        audi                ja   \n",
            "2     125000                    8   diesel        jeep               NaN   \n",
            "3     150000                    6   benzin  volkswagen              nein   \n",
            "4      90000                    7   diesel       skoda              nein   \n",
            "\n",
            "           dateCreated  nrOfPictures  postalCode             lastSeen  \n",
            "0  2016-03-24 00:00:00             0       70435  2016-04-07 03:16:57  \n",
            "1  2016-03-24 00:00:00             0       66954  2016-04-07 01:46:50  \n",
            "2  2016-03-14 00:00:00             0       90480  2016-04-05 12:47:46  \n",
            "3  2016-03-17 00:00:00             0       91074  2016-03-17 17:40:17  \n",
            "4  2016-03-31 00:00:00             0       60437  2016-04-06 10:17:21  \n"
          ]
        }
      ]
    },
    {
      "cell_type": "code",
      "source": [
        "car_df.shape # размер набора данных "
      ],
      "metadata": {
        "colab": {
          "base_uri": "https://localhost:8080/"
        },
        "id": "IZt5DZkcBN5k",
        "outputId": "147034fc-51ee-432b-8da2-f39f04878d72"
      },
      "execution_count": null,
      "outputs": [
        {
          "output_type": "execute_result",
          "data": {
            "text/plain": [
              "(371528, 20)"
            ]
          },
          "metadata": {},
          "execution_count": 3
        }
      ]
    },
    {
      "cell_type": "code",
      "source": [
        "car_df.drop_duplicates(keep = 'first', inplace = True) # удаление повторяющихся строк\n",
        "car_df.shape"
      ],
      "metadata": {
        "colab": {
          "base_uri": "https://localhost:8080/"
        },
        "id": "q2ABpUGMBcDl",
        "outputId": "15fb810f-c1f8-48ca-9691-c65e14a11910"
      },
      "execution_count": null,
      "outputs": [
        {
          "output_type": "execute_result",
          "data": {
            "text/plain": [
              "(371524, 20)"
            ]
          },
          "metadata": {},
          "execution_count": 4
        }
      ]
    },
    {
      "cell_type": "code",
      "source": [
        "import seaborn as sns\n",
        "import matplotlib.pyplot as plt\n",
        "\n",
        "plt.xticks(rotation='vertical')\n",
        "sns.boxplot(data = car_df) # диаграмма BoxPlot для признаков до масштабирования"
      ],
      "metadata": {
        "colab": {
          "base_uri": "https://localhost:8080/",
          "height": 387
        },
        "id": "y-3kUQfbBfSo",
        "outputId": "fc6993fc-dffe-48e7-dfd5-9cb6e4400854"
      },
      "execution_count": null,
      "outputs": [
        {
          "output_type": "execute_result",
          "data": {
            "text/plain": [
              "<matplotlib.axes._subplots.AxesSubplot at 0x7ff556690450>"
            ]
          },
          "metadata": {},
          "execution_count": 5
        },
        {
          "output_type": "display_data",
          "data": {
            "text/plain": [
              "<Figure size 432x288 with 1 Axes>"
            ],
            "image/png": "[encoded data removed]"
          },
          "metadata": {
            "needs_background": "light"
          }
        }
      ]
    },
    {
      "cell_type": "code",
      "source": [
        "numerical_columns = [i for i in car_df.columns[1:21] if car_df[i].dtype.name != 'object']\n",
        "categorial_columns = [i for i in car_df.columns[1:21] if car_df[i].dtype.name == 'object']\n",
        "columns = numerical_columns"
      ],
      "metadata": {
        "id": "ySULoFlWMuLd"
      },
      "execution_count": null,
      "outputs": []
    },
    {
      "cell_type": "code",
      "source": [
        "from sklearn.preprocessing import MinMaxScaler\n",
        "scaler = MinMaxScaler() # масштабирует(нормализация) все функции данных в диапазоне [0, 1] \n",
        "\n",
        "car_df[columns] = scaler.fit_transform(car_df[columns]) # одновременно и обучаемся и преобразуем тренировочные данные\n",
        "\n",
        "plt.xticks(rotation='vertical')\n",
        "sns.boxplot(data = car_df) # диаграмма BoxPlot для признаков после масштабирования"
      ],
      "metadata": {
        "colab": {
          "base_uri": "https://localhost:8080/",
          "height": 376
        },
        "id": "avnGeRsRGEIf",
        "outputId": "6ac01914-d3ca-4ef9-bf78-c2830e2a54a8"
      },
      "execution_count": null,
      "outputs": [
        {
          "output_type": "execute_result",
          "data": {
            "text/plain": [
              "<matplotlib.axes._subplots.AxesSubplot at 0x7ff5560cbe10>"
            ]
          },
          "metadata": {},
          "execution_count": 7
        },
        {
          "output_type": "display_data",
          "data": {
            "text/plain": [
              "<Figure size 432x288 with 1 Axes>"
            ],
            "image/png": "[encoded data removed]"
          },
          "metadata": {
            "needs_background": "light"
          }
        }
      ]
    },
    {
      "cell_type": "code",
      "source": [
        "from sklearn import preprocessing\n",
        "label=preprocessing.LabelEncoder()\n",
        "car_df=car_df.apply(label.fit_transform)\n",
        "car_df"
      ],
      "metadata": {
        "colab": {
          "base_uri": "https://localhost:8080/",
          "height": 487
        },
        "id": "cY5swGpLUtX-",
        "outputId": "bc6dbe36-550e-4ec2-c141-feafc302ae4f"
      },
      "execution_count": null,
      "outputs": [
        {
          "output_type": "execute_result",
          "data": {
            "text/plain": [
              "        dateCrawled    name  seller  offerType  price  abtest  vehicleType  \\\n",
              "0            164563   79207       1          0    256       1            8   \n",
              "1            164294    4112       1          0   3587       1            3   \n",
              "2             76564   90564       1          0   2590       1            7   \n",
              "3            106204   76592       1          0    696       1            4   \n",
              "4            231164  170493       1          0   1333       1            4   \n",
              "...             ...     ...     ...        ...    ...     ...          ...   \n",
              "371523        79620  177981       1          0    923       1            8   \n",
              "371524         5117  175587       1          0    568       1            2   \n",
              "371525       121891  214317       1          0   2492       1            1   \n",
              "371526       131927  191702       1          0   1274       1            5   \n",
              "371527        18553   39526       1          0   4323       0            6   \n",
              "\n",
              "        yearOfRegistration  gearbox  powerPS  model  kilometer  \\\n",
              "0                       88        1        0    118         12   \n",
              "1                      106        1      190    251         11   \n",
              "2                       99        0      163    119         11   \n",
              "3                       96        1       75    118         12   \n",
              "4                      103        1       69    103          9   \n",
              "...                    ...      ...      ...    ...        ...   \n",
              "371523                 100        2        0    251          2   \n",
              "371524                  95        0      101    108         11   \n",
              "371525                  91        1      102    225         12   \n",
              "371526                  97        1      100    118         12   \n",
              "371527                 108        1      317    148          5   \n",
              "\n",
              "        monthOfRegistration  fuelType  brand  notRepairedDamage  dateCreated  \\\n",
              "0                         0         1     38                  2           99   \n",
              "1                         5         3      1                  0           99   \n",
              "2                         8         3     14                  2           89   \n",
              "3                         6         1     38                  1           92   \n",
              "4                         7         3     31                  1          106   \n",
              "...                     ...       ...    ...                ...          ...   \n",
              "371523                    1         7     33                  2           89   \n",
              "371524                    3         1     32                  1           80   \n",
              "371525                    3         3     38                  1           94   \n",
              "371526                    6         3     38                  2           95   \n",
              "371527                    8         1      2                  1           82   \n",
              "\n",
              "        nrOfPictures  postalCode  lastSeen  \n",
              "0                  0        4901    178839  \n",
              "1                  0        4618    178355  \n",
              "2                  0        6998    162956  \n",
              "3                  0        7038     45272  \n",
              "4                  0        4215    171913  \n",
              "...              ...         ...       ...  \n",
              "371523             0        2920    168588  \n",
              "371524             0        1824     16325  \n",
              "371525             0        6638    180083  \n",
              "371526             0        2977     82280  \n",
              "371527             0        5175     68092  \n",
              "\n",
              "[371524 rows x 20 columns]"
            ],
            "text/html": [
              "\n",
              "  <div id=\"df-c1cb72f9-8377-40ea-9a88-8599ef9da680\">\n",
              "    <div class=\"colab-df-container\">\n",
              "      <div>\n",
              "<style scoped>\n",
              "    .dataframe tbody tr th:only-of-type {\n",
              "        vertical-align: middle;\n",
              "    }\n",
              "\n",
              "    .dataframe tbody tr th {\n",
              "        vertical-align: top;\n",
              "    }\n",
              "\n",
              "    .dataframe thead th {\n",
              "        text-align: right;\n",
              "    }\n",
              "</style>\n",
              "<table border=\"1\" class=\"dataframe\">\n",
              "  <thead>\n",
              "    <tr style=\"text-align: right;\">\n",
              "      <th></th>\n",
              "      <th>dateCrawled</th>\n",
              "      <th>name</th>\n",
              "      <th>seller</th>\n",
              "      <th>offerType</th>\n",
              "      <th>price</th>\n",
              "      <th>abtest</th>\n",
              "      <th>vehicleType</th>\n",
              "      <th>yearOfRegistration</th>\n",
              "      <th>gearbox</th>\n",
              "      <th>powerPS</th>\n",
              "      <th>model</th>\n",
              "      <th>kilometer</th>\n",
              "      <th>monthOfRegistration</th>\n",
              "      <th>fuelType</th>\n",
              "      <th>brand</th>\n",
              "      <th>notRepairedDamage</th>\n",
              "      <th>dateCreated</th>\n",
              "      <th>nrOfPictures</th>\n",
              "      <th>postalCode</th>\n",
              "      <th>lastSeen</th>\n",
              "    </tr>\n",
              "  </thead>\n",
              "  <tbody>\n",
              "    <tr>\n",
              "      <th>0</th>\n",
              "      <td>164563</td>\n",
              "      <td>79207</td>\n",
              "      <td>1</td>\n",
              "      <td>0</td>\n",
              "      <td>256</td>\n",
              "      <td>1</td>\n",
              "      <td>8</td>\n",
              "      <td>88</td>\n",
              "      <td>1</td>\n",
              "      <td>0</td>\n",
              "      <td>118</td>\n",
              "      <td>12</td>\n",
              "      <td>0</td>\n",
              "      <td>1</td>\n",
              "      <td>38</td>\n",
              "      <td>2</td>\n",
              "      <td>99</td>\n",
              "      <td>0</td>\n",
              "      <td>4901</td>\n",
              "      <td>178839</td>\n",
              "    </tr>\n",
              "    <tr>\n",
              "      <th>1</th>\n",
              "      <td>164294</td>\n",
              "      <td>4112</td>\n",
              "      <td>1</td>\n",
              "      <td>0</td>\n",
              "      <td>3587</td>\n",
              "      <td>1</td>\n",
              "      <td>3</td>\n",
              "      <td>106</td>\n",
              "      <td>1</td>\n",
              "      <td>190</td>\n",
              "      <td>251</td>\n",
              "      <td>11</td>\n",
              "      <td>5</td>\n",
              "      <td>3</td>\n",
              "      <td>1</td>\n",
              "      <td>0</td>\n",
              "      <td>99</td>\n",
              "      <td>0</td>\n",
              "      <td>4618</td>\n",
              "      <td>178355</td>\n",
              "    </tr>\n",
              "    <tr>\n",
              "      <th>2</th>\n",
              "      <td>76564</td>\n",
              "      <td>90564</td>\n",
              "      <td>1</td>\n",
              "      <td>0</td>\n",
              "      <td>2590</td>\n",
              "      <td>1</td>\n",
              "      <td>7</td>\n",
              "      <td>99</td>\n",
              "      <td>0</td>\n",
              "      <td>163</td>\n",
              "      <td>119</td>\n",
              "      <td>11</td>\n",
              "      <td>8</td>\n",
              "      <td>3</td>\n",
              "      <td>14</td>\n",
              "      <td>2</td>\n",
              "      <td>89</td>\n",
              "      <td>0</td>\n",
              "      <td>6998</td>\n",
              "      <td>162956</td>\n",
              "    </tr>\n",
              "    <tr>\n",
              "      <th>3</th>\n",
              "      <td>106204</td>\n",
              "      <td>76592</td>\n",
              "      <td>1</td>\n",
              "      <td>0</td>\n",
              "      <td>696</td>\n",
              "      <td>1</td>\n",
              "      <td>4</td>\n",
              "      <td>96</td>\n",
              "      <td>1</td>\n",
              "      <td>75</td>\n",
              "      <td>118</td>\n",
              "      <td>12</td>\n",
              "      <td>6</td>\n",
              "      <td>1</td>\n",
              "      <td>38</td>\n",
              "      <td>1</td>\n",
              "      <td>92</td>\n",
              "      <td>0</td>\n",
              "      <td>7038</td>\n",
              "      <td>45272</td>\n",
              "    </tr>\n",
              "    <tr>\n",
              "      <th>4</th>\n",
              "      <td>231164</td>\n",
              "      <td>170493</td>\n",
              "      <td>1</td>\n",
              "      <td>0</td>\n",
              "      <td>1333</td>\n",
              "      <td>1</td>\n",
              "      <td>4</td>\n",
              "      <td>103</td>\n",
              "      <td>1</td>\n",
              "      <td>69</td>\n",
              "      <td>103</td>\n",
              "      <td>9</td>\n",
              "      <td>7</td>\n",
              "      <td>3</td>\n",
              "      <td>31</td>\n",
              "      <td>1</td>\n",
              "      <td>106</td>\n",
              "      <td>0</td>\n",
              "      <td>4215</td>\n",
              "      <td>171913</td>\n",
              "    </tr>\n",
              "    <tr>\n",
              "      <th>...</th>\n",
              "      <td>...</td>\n",
              "      <td>...</td>\n",
              "      <td>...</td>\n",
              "      <td>...</td>\n",
              "      <td>...</td>\n",
              "      <td>...</td>\n",
              "      <td>...</td>\n",
              "      <td>...</td>\n",
              "      <td>...</td>\n",
              "      <td>...</td>\n",
              "      <td>...</td>\n",
              "      <td>...</td>\n",
              "      <td>...</td>\n",
              "      <td>...</td>\n",
              "      <td>...</td>\n",
              "      <td>...</td>\n",
              "      <td>...</td>\n",
              "      <td>...</td>\n",
              "      <td>...</td>\n",
              "      <td>...</td>\n",
              "    </tr>\n",
              "    <tr>\n",
              "      <th>371523</th>\n",
              "      <td>79620</td>\n",
              "      <td>177981</td>\n",
              "      <td>1</td>\n",
              "      <td>0</td>\n",
              "      <td>923</td>\n",
              "      <td>1</td>\n",
              "      <td>8</td>\n",
              "      <td>100</td>\n",
              "      <td>2</td>\n",
              "      <td>0</td>\n",
              "      <td>251</td>\n",
              "      <td>2</td>\n",
              "      <td>1</td>\n",
              "      <td>7</td>\n",
              "      <td>33</td>\n",
              "      <td>2</td>\n",
              "      <td>89</td>\n",
              "      <td>0</td>\n",
              "      <td>2920</td>\n",
              "      <td>168588</td>\n",
              "    </tr>\n",
              "    <tr>\n",
              "      <th>371524</th>\n",
              "      <td>5117</td>\n",
              "      <td>175587</td>\n",
              "      <td>1</td>\n",
              "      <td>0</td>\n",
              "      <td>568</td>\n",
              "      <td>1</td>\n",
              "      <td>2</td>\n",
              "      <td>95</td>\n",
              "      <td>0</td>\n",
              "      <td>101</td>\n",
              "      <td>108</td>\n",
              "      <td>11</td>\n",
              "      <td>3</td>\n",
              "      <td>1</td>\n",
              "      <td>32</td>\n",
              "      <td>1</td>\n",
              "      <td>80</td>\n",
              "      <td>0</td>\n",
              "      <td>1824</td>\n",
              "      <td>16325</td>\n",
              "    </tr>\n",
              "    <tr>\n",
              "      <th>371525</th>\n",
              "      <td>121891</td>\n",
              "      <td>214317</td>\n",
              "      <td>1</td>\n",
              "      <td>0</td>\n",
              "      <td>2492</td>\n",
              "      <td>1</td>\n",
              "      <td>1</td>\n",
              "      <td>91</td>\n",
              "      <td>1</td>\n",
              "      <td>102</td>\n",
              "      <td>225</td>\n",
              "      <td>12</td>\n",
              "      <td>3</td>\n",
              "      <td>3</td>\n",
              "      <td>38</td>\n",
              "      <td>1</td>\n",
              "      <td>94</td>\n",
              "      <td>0</td>\n",
              "      <td>6638</td>\n",
              "      <td>180083</td>\n",
              "    </tr>\n",
              "    <tr>\n",
              "      <th>371526</th>\n",
              "      <td>131927</td>\n",
              "      <td>191702</td>\n",
              "      <td>1</td>\n",
              "      <td>0</td>\n",
              "      <td>1274</td>\n",
              "      <td>1</td>\n",
              "      <td>5</td>\n",
              "      <td>97</td>\n",
              "      <td>1</td>\n",
              "      <td>100</td>\n",
              "      <td>118</td>\n",
              "      <td>12</td>\n",
              "      <td>6</td>\n",
              "      <td>3</td>\n",
              "      <td>38</td>\n",
              "      <td>2</td>\n",
              "      <td>95</td>\n",
              "      <td>0</td>\n",
              "      <td>2977</td>\n",
              "      <td>82280</td>\n",
              "    </tr>\n",
              "    <tr>\n",
              "      <th>371527</th>\n",
              "      <td>18553</td>\n",
              "      <td>39526</td>\n",
              "      <td>1</td>\n",
              "      <td>0</td>\n",
              "      <td>4323</td>\n",
              "      <td>0</td>\n",
              "      <td>6</td>\n",
              "      <td>108</td>\n",
              "      <td>1</td>\n",
              "      <td>317</td>\n",
              "      <td>148</td>\n",
              "      <td>5</td>\n",
              "      <td>8</td>\n",
              "      <td>1</td>\n",
              "      <td>2</td>\n",
              "      <td>1</td>\n",
              "      <td>82</td>\n",
              "      <td>0</td>\n",
              "      <td>5175</td>\n",
              "      <td>68092</td>\n",
              "    </tr>\n",
              "  </tbody>\n",
              "</table>\n",
              "<p>371524 rows × 20 columns</p>\n",
              "</div>\n",
              "      <button class=\"colab-df-convert\" onclick=\"convertToInteractive('df-c1cb72f9-8377-40ea-9a88-8599ef9da680')\"\n",
              "              title=\"Convert this dataframe to an interactive table.\"\n",
              "              style=\"display:none;\">\n",
              "        \n",
              "  <svg xmlns=\"http://www.w3.org/2000/svg\" height=\"24px\"viewBox=\"0 0 24 24\"\n",
              "       width=\"24px\">\n",
              "    <path d=\"M0 0h24v24H0V0z\" fill=\"none\"/>\n",
              "    <path d=\"M18.56 5.44l.94 2.06.94-2.06 2.06-.94-2.06-.94-.94-2.06-.94 2.06-2.06.94zm-11 1L8.5 8.5l.94-2.06 2.06-.94-2.06-.94L8.5 2.5l-.94 2.06-2.06.94zm10 10l.94 2.06.94-2.06 2.06-.94-2.06-.94-.94-2.06-.94 2.06-2.06.94z\"/><path d=\"M17.41 7.96l-1.37-1.37c-.4-.4-.92-.59-1.43-.59-.52 0-1.04.2-1.43.59L10.3 9.45l-7.72 7.72c-.78.78-.78 2.05 0 2.83L4 21.41c.39.39.9.59 1.41.59.51 0 1.02-.2 1.41-.59l7.78-7.78 2.81-2.81c.8-.78.8-2.07 0-2.86zM5.41 20L4 18.59l7.72-7.72 1.47 1.35L5.41 20z\"/>\n",
              "  </svg>\n",
              "      </button>\n",
              "      \n",
              "  <style>\n",
              "    .colab-df-container {\n",
              "      display:flex;\n",
              "      flex-wrap:wrap;\n",
              "      gap: 12px;\n",
              "    }\n",
              "\n",
              "    .colab-df-convert {\n",
              "      background-color: #E8F0FE;\n",
              "      border: none;\n",
              "      border-radius: 50%;\n",
              "      cursor: pointer;\n",
              "      display: none;\n",
              "      fill: #1967D2;\n",
              "      height: 32px;\n",
              "      padding: 0 0 0 0;\n",
              "      width: 32px;\n",
              "    }\n",
              "\n",
              "    .colab-df-convert:hover {\n",
              "      background-color: #E2EBFA;\n",
              "      box-shadow: 0px 1px 2px rgba(60, 64, 67, 0.3), 0px 1px 3px 1px rgba(60, 64, 67, 0.15);\n",
              "      fill: #174EA6;\n",
              "    }\n",
              "\n",
              "    [theme=dark] .colab-df-convert {\n",
              "      background-color: #3B4455;\n",
              "      fill: #D2E3FC;\n",
              "    }\n",
              "\n",
              "    [theme=dark] .colab-df-convert:hover {\n",
              "      background-color: #434B5C;\n",
              "      box-shadow: 0px 1px 3px 1px rgba(0, 0, 0, 0.15);\n",
              "      filter: drop-shadow(0px 1px 2px rgba(0, 0, 0, 0.3));\n",
              "      fill: #FFFFFF;\n",
              "    }\n",
              "  </style>\n",
              "\n",
              "      <script>\n",
              "        const buttonEl =\n",
              "          document.querySelector('#df-c1cb72f9-8377-40ea-9a88-8599ef9da680 button.colab-df-convert');\n",
              "        buttonEl.style.display =\n",
              "          google.colab.kernel.accessAllowed ? 'block' : 'none';\n",
              "\n",
              "        async function convertToInteractive(key) {\n",
              "          const element = document.querySelector('#df-c1cb72f9-8377-40ea-9a88-8599ef9da680');\n",
              "          const dataTable =\n",
              "            await google.colab.kernel.invokeFunction('convertToInteractive',\n",
              "                                                     [key], {});\n",
              "          if (!dataTable) return;\n",
              "\n",
              "          const docLinkHtml = 'Like what you see? Visit the ' +\n",
              "            '<a target=\"_blank\" href=https://colab.research.google.com/notebooks/data_table.ipynb>data table notebook</a>'\n",
              "            + ' to learn more about interactive tables.';\n",
              "          element.innerHTML = '';\n",
              "          dataTable['output_type'] = 'display_data';\n",
              "          await google.colab.output.renderOutput(dataTable, element);\n",
              "          const docLink = document.createElement('div');\n",
              "          docLink.innerHTML = docLinkHtml;\n",
              "          element.appendChild(docLink);\n",
              "        }\n",
              "      </script>\n",
              "    </div>\n",
              "  </div>\n",
              "  "
            ]
          },
          "metadata": {},
          "execution_count": 8
        }
      ]
    },
    {
      "cell_type": "code",
      "source": [
        "corr_matrix = car_df.corr()\n",
        "sns.heatmap(corr_matrix); # это графическое представление данных, где дополнительные переменные отображаются при помощи цвета\n",
        "print(corr_matrix)"
      ],
      "metadata": {
        "colab": {
          "base_uri": "https://localhost:8080/",
          "height": 1000
        },
        "id": "vlfQnIJhWLHT",
        "outputId": "43729bec-7eb3-4fd9-cc8f-7f89e7a2970d"
      },
      "execution_count": null,
      "outputs": [
        {
          "output_type": "stream",
          "name": "stdout",
          "text": [
            "                     dateCrawled      name    seller  offerType     price  \\\n",
            "dateCrawled             1.000000  0.000127  0.001265  -0.000116  0.019073   \n",
            "name                    0.000127  1.000000  0.000963   0.003211 -0.114604   \n",
            "seller                  0.001265  0.000963  1.000000   0.000016  0.001413   \n",
            "offerType              -0.000116  0.003211  0.000016   1.000000 -0.003356   \n",
            "price                   0.019073 -0.114604  0.001413  -0.003356  1.000000   \n",
            "abtest                 -0.012905  0.002107  0.001052  -0.002105 -0.000076   \n",
            "vehicleType            -0.009001 -0.088397 -0.000336   0.002864 -0.105204   \n",
            "yearOfRegistration      0.000540 -0.014485  0.004451  -0.002834  0.382984   \n",
            "gearbox                -0.002436  0.101206  0.001049   0.007601 -0.333761   \n",
            "powerPS                 0.008934 -0.217371  0.002624  -0.006275  0.552691   \n",
            "model                  -0.001397  0.395386 -0.000162   0.001647 -0.053554   \n",
            "kilometer              -0.005253 -0.018833  0.000118  -0.005602 -0.375127   \n",
            "monthOfRegistration    -0.003675 -0.017169 -0.002244  -0.005207  0.121572   \n",
            "fuelType               -0.010715 -0.010557  0.001860   0.008198 -0.002136   \n",
            "brand                   0.001529  0.810000  0.002131   0.000912 -0.123419   \n",
            "notRepairedDamage       0.001048  0.005264 -0.001268   0.002535 -0.051524   \n",
            "dateCreated             0.988862  0.000200  0.001178  -0.000048  0.015367   \n",
            "nrOfPictures                 NaN       NaN       NaN        NaN       NaN   \n",
            "postalCode              0.015806 -0.060720  0.000366  -0.000644  0.091594   \n",
            "lastSeen                0.563860 -0.011393 -0.002265  -0.002477  0.175259   \n",
            "\n",
            "                       abtest  vehicleType  yearOfRegistration   gearbox  \\\n",
            "dateCrawled         -0.012905    -0.009001            0.000540 -0.002436   \n",
            "name                 0.002107    -0.088397           -0.014485  0.101206   \n",
            "seller               0.001052    -0.000336            0.004451  0.001049   \n",
            "offerType           -0.002105     0.002864           -0.002834  0.007601   \n",
            "price               -0.000076    -0.105204            0.382984 -0.333761   \n",
            "abtest               1.000000     0.000103           -0.001752  0.000469   \n",
            "vehicleType          0.000103     1.000000            0.173141  0.040756   \n",
            "yearOfRegistration  -0.001752     0.173141            1.000000 -0.087796   \n",
            "gearbox              0.000469     0.040756           -0.087796  1.000000   \n",
            "powerPS             -0.002924    -0.038147            0.147878 -0.447376   \n",
            "model                0.000441    -0.070087            0.018972  0.079403   \n",
            "kilometer           -0.002738     0.029151           -0.186629  0.000439   \n",
            "monthOfRegistration  0.001347    -0.079010            0.051822 -0.119540   \n",
            "fuelType            -0.000719     0.206788            0.119548  0.086994   \n",
            "brand                0.002961    -0.070195           -0.035654  0.120904   \n",
            "notRepairedDamage   -0.001838     0.120325           -0.006719  0.130599   \n",
            "dateCreated         -0.012018    -0.008471           -0.000573 -0.001341   \n",
            "nrOfPictures              NaN          NaN                 NaN       NaN   \n",
            "postalCode           0.001682    -0.016208            0.029339  0.008123   \n",
            "lastSeen            -0.007005    -0.034430            0.018558 -0.049830   \n",
            "\n",
            "                      powerPS     model  kilometer  monthOfRegistration  \\\n",
            "dateCrawled          0.008934 -0.001397  -0.005253            -0.003675   \n",
            "name                -0.217371  0.395386  -0.018833            -0.017169   \n",
            "seller               0.002624 -0.000162   0.000118            -0.002244   \n",
            "offerType           -0.006275  0.001647  -0.005602            -0.005207   \n",
            "price                0.552691 -0.053554  -0.375127             0.121572   \n",
            "abtest              -0.002924  0.000441  -0.002738             0.001347   \n",
            "vehicleType         -0.038147 -0.070087   0.029151            -0.079010   \n",
            "yearOfRegistration   0.147878  0.018972  -0.186629             0.051822   \n",
            "gearbox             -0.447376  0.079403   0.000439            -0.119540   \n",
            "powerPS              1.000000 -0.136836  -0.011184             0.121923   \n",
            "model               -0.136836  1.000000  -0.033045            -0.046875   \n",
            "kilometer           -0.011184 -0.033045   1.000000             0.012731   \n",
            "monthOfRegistration  0.121923 -0.046875   0.012731             1.000000   \n",
            "fuelType            -0.053388  0.105543   0.036060            -0.109592   \n",
            "brand               -0.249681  0.434530  -0.025917            -0.021607   \n",
            "notRepairedDamage   -0.130703  0.058470  -0.017564            -0.106301   \n",
            "dateCreated          0.007457 -0.001021  -0.003354            -0.003826   \n",
            "nrOfPictures              NaN       NaN        NaN                  NaN   \n",
            "postalCode           0.079162 -0.048651  -0.022085             0.013171   \n",
            "lastSeen             0.086567 -0.023477  -0.079499             0.002047   \n",
            "\n",
            "                     fuelType     brand  notRepairedDamage  dateCreated  \\\n",
            "dateCrawled         -0.010715  0.001529           0.001048     0.988862   \n",
            "name                -0.010557  0.810000           0.005264     0.000200   \n",
            "seller               0.001860  0.002131          -0.001268     0.001178   \n",
            "offerType            0.008198  0.000912           0.002535    -0.000048   \n",
            "price               -0.002136 -0.123419          -0.051524     0.015367   \n",
            "abtest              -0.000719  0.002961          -0.001838    -0.012018   \n",
            "vehicleType          0.206788 -0.070195           0.120325    -0.008471   \n",
            "yearOfRegistration   0.119548 -0.035654          -0.006719    -0.000573   \n",
            "gearbox              0.086994  0.120904           0.130599    -0.001341   \n",
            "powerPS             -0.053388 -0.249681          -0.130703     0.007457   \n",
            "model                0.105543  0.434530           0.058470    -0.001021   \n",
            "kilometer            0.036060 -0.025917          -0.017564    -0.003354   \n",
            "monthOfRegistration -0.109592 -0.021607          -0.106301    -0.003826   \n",
            "fuelType             1.000000 -0.005488           0.135102    -0.009853   \n",
            "brand               -0.005488  1.000000           0.025718     0.001513   \n",
            "notRepairedDamage    0.135102  0.025718           1.000000     0.001184   \n",
            "dateCreated         -0.009853  0.001513           0.001184     1.000000   \n",
            "nrOfPictures              NaN       NaN                NaN          NaN   \n",
            "postalCode          -0.024153 -0.068453          -0.028918     0.015414   \n",
            "lastSeen            -0.032485 -0.018296          -0.012215     0.556681   \n",
            "\n",
            "                     nrOfPictures  postalCode  lastSeen  \n",
            "dateCrawled                   NaN    0.015806  0.563860  \n",
            "name                          NaN   -0.060720 -0.011393  \n",
            "seller                        NaN    0.000366 -0.002265  \n",
            "offerType                     NaN   -0.000644 -0.002477  \n",
            "price                         NaN    0.091594  0.175259  \n",
            "abtest                        NaN    0.001682 -0.007005  \n",
            "vehicleType                   NaN   -0.016208 -0.034430  \n",
            "yearOfRegistration            NaN    0.029339  0.018558  \n",
            "gearbox                       NaN    0.008123 -0.049830  \n",
            "powerPS                       NaN    0.079162  0.086567  \n",
            "model                         NaN   -0.048651 -0.023477  \n",
            "kilometer                     NaN   -0.022085 -0.079499  \n",
            "monthOfRegistration           NaN    0.013171  0.002047  \n",
            "fuelType                      NaN   -0.024153 -0.032485  \n",
            "brand                         NaN   -0.068453 -0.018296  \n",
            "notRepairedDamage             NaN   -0.028918 -0.012215  \n",
            "dateCreated                   NaN    0.015414  0.556681  \n",
            "nrOfPictures                  NaN         NaN       NaN  \n",
            "postalCode                    NaN    1.000000  0.049448  \n",
            "lastSeen                      NaN    0.049448  1.000000  \n"
          ]
        },
        {
          "output_type": "display_data",
          "data": {
            "text/plain": [
              "<Figure size 432x288 with 2 Axes>"
            ],
            "image/png": "[encoded data removed]"
          },
          "metadata": {
            "needs_background": "light"
          }
        }
      ]
    },
    {
      "cell_type": "code",
      "source": [
        "x = car_df.drop('gearbox', axis = 1)\n",
        "y = car_df['gearbox']\n",
        "\n",
        "from sklearn.model_selection import train_test_split \n",
        "x_train, x_test, y_train, y_test = train_test_split(x, y) # разделение данных на обучающие и тестовые наборы\n",
        "\n",
        "from sklearn.linear_model import LinearRegression \n",
        "regressor = LinearRegression() \n",
        "regressor.fit(x_train, y_train) # обучение алгоритма"
      ],
      "metadata": {
        "colab": {
          "base_uri": "https://localhost:8080/"
        },
        "id": "BU_L3BJwPohY",
        "outputId": "176fce11-16a0-4b4e-856c-622d3884f34b"
      },
      "execution_count": null,
      "outputs": [
        {
          "output_type": "execute_result",
          "data": {
            "text/plain": [
              "LinearRegression()"
            ]
          },
          "metadata": {},
          "execution_count": 55
        }
      ]
    },
    {
      "cell_type": "code",
      "source": [
        "regressor.coef_ # такие коэффициенты выбрала наша регрессионная модель"
      ],
      "metadata": {
        "colab": {
          "base_uri": "https://localhost:8080/"
        },
        "id": "97zXvpkYWTBX",
        "outputId": "e7b636ac-f793-47c5-9759-5de86c3882dc"
      },
      "execution_count": null,
      "outputs": [
        {
          "output_type": "execute_result",
          "data": {
            "text/plain": [
              "array([ 1.51680490e-08, -6.74764379e-08,  3.94477931e-01,  2.59762489e-01,\n",
              "       -7.29636117e-05, -7.54039569e-04, -2.87079390e-03,  7.37002892e-04,\n",
              "       -2.32603392e-03,  4.13266729e-05, -1.05937395e-02, -5.81698631e-03,\n",
              "        1.54822220e-02,  6.52645110e-04,  6.06229329e-02, -4.14921052e-05,\n",
              "        2.77555756e-17,  1.29145983e-05,  2.75045964e-08])"
            ]
          },
          "metadata": {},
          "execution_count": 56
        }
      ]
    },
    {
      "cell_type": "code",
      "source": [
        "y_pred = regressor.predict(x_test) # прогнозы на тестовых данных"
      ],
      "metadata": {
        "id": "fGEydn4LW4Oh"
      },
      "execution_count": null,
      "outputs": []
    },
    {
      "cell_type": "code",
      "source": [
        "df = pd.DataFrame({'Actual': y_test, 'Predicted': y_pred, 'Accuracy': abs(y_test-y_pred)})\n",
        "df # сравнение фактических выходных значений для X_test с прогнозируемыми значениями"
      ],
      "metadata": {
        "colab": {
          "base_uri": "https://localhost:8080/",
          "height": 423
        },
        "id": "RmUSq1coXht7",
        "outputId": "ca5578e0-87ed-48f3-c107-8ca288a99948"
      },
      "execution_count": null,
      "outputs": [
        {
          "output_type": "execute_result",
          "data": {
            "text/plain": [
              "        Actual  Predicted  Accuracy\n",
              "76299        1   0.869804  0.130196\n",
              "155932       1   0.803941  0.196059\n",
              "37173        1   0.943191  0.056809\n",
              "261398       1   0.948791  0.051209\n",
              "3212         1   0.686802  0.313198\n",
              "...        ...        ...       ...\n",
              "349413       1   0.794647  0.205353\n",
              "293295       1   0.628925  0.371075\n",
              "203249       0   0.471744  0.471744\n",
              "257396       1   0.737052  0.262948\n",
              "115126       1   0.787084  0.212916\n",
              "\n",
              "[92881 rows x 3 columns]"
            ],
            "text/html": [
              "\n",
              "  <div id=\"df-c1085dd7-1a01-4250-bdac-31d0246d0b0d\">\n",
              "    <div class=\"colab-df-container\">\n",
              "      <div>\n",
              "<style scoped>\n",
              "    .dataframe tbody tr th:only-of-type {\n",
              "        vertical-align: middle;\n",
              "    }\n",
              "\n",
              "    .dataframe tbody tr th {\n",
              "        vertical-align: top;\n",
              "    }\n",
              "\n",
              "    .dataframe thead th {\n",
              "        text-align: right;\n",
              "    }\n",
              "</style>\n",
              "<table border=\"1\" class=\"dataframe\">\n",
              "  <thead>\n",
              "    <tr style=\"text-align: right;\">\n",
              "      <th></th>\n",
              "      <th>Actual</th>\n",
              "      <th>Predicted</th>\n",
              "      <th>Accuracy</th>\n",
              "    </tr>\n",
              "  </thead>\n",
              "  <tbody>\n",
              "    <tr>\n",
              "      <th>76299</th>\n",
              "      <td>1</td>\n",
              "      <td>0.869804</td>\n",
              "      <td>0.130196</td>\n",
              "    </tr>\n",
              "    <tr>\n",
              "      <th>155932</th>\n",
              "      <td>1</td>\n",
              "      <td>0.803941</td>\n",
              "      <td>0.196059</td>\n",
              "    </tr>\n",
              "    <tr>\n",
              "      <th>37173</th>\n",
              "      <td>1</td>\n",
              "      <td>0.943191</td>\n",
              "      <td>0.056809</td>\n",
              "    </tr>\n",
              "    <tr>\n",
              "      <th>261398</th>\n",
              "      <td>1</td>\n",
              "      <td>0.948791</td>\n",
              "      <td>0.051209</td>\n",
              "    </tr>\n",
              "    <tr>\n",
              "      <th>3212</th>\n",
              "      <td>1</td>\n",
              "      <td>0.686802</td>\n",
              "      <td>0.313198</td>\n",
              "    </tr>\n",
              "    <tr>\n",
              "      <th>...</th>\n",
              "      <td>...</td>\n",
              "      <td>...</td>\n",
              "      <td>...</td>\n",
              "    </tr>\n",
              "    <tr>\n",
              "      <th>349413</th>\n",
              "      <td>1</td>\n",
              "      <td>0.794647</td>\n",
              "      <td>0.205353</td>\n",
              "    </tr>\n",
              "    <tr>\n",
              "      <th>293295</th>\n",
              "      <td>1</td>\n",
              "      <td>0.628925</td>\n",
              "      <td>0.371075</td>\n",
              "    </tr>\n",
              "    <tr>\n",
              "      <th>203249</th>\n",
              "      <td>0</td>\n",
              "      <td>0.471744</td>\n",
              "      <td>0.471744</td>\n",
              "    </tr>\n",
              "    <tr>\n",
              "      <th>257396</th>\n",
              "      <td>1</td>\n",
              "      <td>0.737052</td>\n",
              "      <td>0.262948</td>\n",
              "    </tr>\n",
              "    <tr>\n",
              "      <th>115126</th>\n",
              "      <td>1</td>\n",
              "      <td>0.787084</td>\n",
              "      <td>0.212916</td>\n",
              "    </tr>\n",
              "  </tbody>\n",
              "</table>\n",
              "<p>92881 rows × 3 columns</p>\n",
              "</div>\n",
              "      <button class=\"colab-df-convert\" onclick=\"convertToInteractive('df-c1085dd7-1a01-4250-bdac-31d0246d0b0d')\"\n",
              "              title=\"Convert this dataframe to an interactive table.\"\n",
              "              style=\"display:none;\">\n",
              "        \n",
              "  <svg xmlns=\"http://www.w3.org/2000/svg\" height=\"24px\"viewBox=\"0 0 24 24\"\n",
              "       width=\"24px\">\n",
              "    <path d=\"M0 0h24v24H0V0z\" fill=\"none\"/>\n",
              "    <path d=\"M18.56 5.44l.94 2.06.94-2.06 2.06-.94-2.06-.94-.94-2.06-.94 2.06-2.06.94zm-11 1L8.5 8.5l.94-2.06 2.06-.94-2.06-.94L8.5 2.5l-.94 2.06-2.06.94zm10 10l.94 2.06.94-2.06 2.06-.94-2.06-.94-.94-2.06-.94 2.06-2.06.94z\"/><path d=\"M17.41 7.96l-1.37-1.37c-.4-.4-.92-.59-1.43-.59-.52 0-1.04.2-1.43.59L10.3 9.45l-7.72 7.72c-.78.78-.78 2.05 0 2.83L4 21.41c.39.39.9.59 1.41.59.51 0 1.02-.2 1.41-.59l7.78-7.78 2.81-2.81c.8-.78.8-2.07 0-2.86zM5.41 20L4 18.59l7.72-7.72 1.47 1.35L5.41 20z\"/>\n",
              "  </svg>\n",
              "      </button>\n",
              "      \n",
              "  <style>\n",
              "    .colab-df-container {\n",
              "      display:flex;\n",
              "      flex-wrap:wrap;\n",
              "      gap: 12px;\n",
              "    }\n",
              "\n",
              "    .colab-df-convert {\n",
              "      background-color: #E8F0FE;\n",
              "      border: none;\n",
              "      border-radius: 50%;\n",
              "      cursor: pointer;\n",
              "      display: none;\n",
              "      fill: #1967D2;\n",
              "      height: 32px;\n",
              "      padding: 0 0 0 0;\n",
              "      width: 32px;\n",
              "    }\n",
              "\n",
              "    .colab-df-convert:hover {\n",
              "      background-color: #E2EBFA;\n",
              "      box-shadow: 0px 1px 2px rgba(60, 64, 67, 0.3), 0px 1px 3px 1px rgba(60, 64, 67, 0.15);\n",
              "      fill: #174EA6;\n",
              "    }\n",
              "\n",
              "    [theme=dark] .colab-df-convert {\n",
              "      background-color: #3B4455;\n",
              "      fill: #D2E3FC;\n",
              "    }\n",
              "\n",
              "    [theme=dark] .colab-df-convert:hover {\n",
              "      background-color: #434B5C;\n",
              "      box-shadow: 0px 1px 3px 1px rgba(0, 0, 0, 0.15);\n",
              "      filter: drop-shadow(0px 1px 2px rgba(0, 0, 0, 0.3));\n",
              "      fill: #FFFFFF;\n",
              "    }\n",
              "  </style>\n",
              "\n",
              "      <script>\n",
              "        const buttonEl =\n",
              "          document.querySelector('#df-c1085dd7-1a01-4250-bdac-31d0246d0b0d button.colab-df-convert');\n",
              "        buttonEl.style.display =\n",
              "          google.colab.kernel.accessAllowed ? 'block' : 'none';\n",
              "\n",
              "        async function convertToInteractive(key) {\n",
              "          const element = document.querySelector('#df-c1085dd7-1a01-4250-bdac-31d0246d0b0d');\n",
              "          const dataTable =\n",
              "            await google.colab.kernel.invokeFunction('convertToInteractive',\n",
              "                                                     [key], {});\n",
              "          if (!dataTable) return;\n",
              "\n",
              "          const docLinkHtml = 'Like what you see? Visit the ' +\n",
              "            '<a target=\"_blank\" href=https://colab.research.google.com/notebooks/data_table.ipynb>data table notebook</a>'\n",
              "            + ' to learn more about interactive tables.';\n",
              "          element.innerHTML = '';\n",
              "          dataTable['output_type'] = 'display_data';\n",
              "          await google.colab.output.renderOutput(dataTable, element);\n",
              "          const docLink = document.createElement('div');\n",
              "          docLink.innerHTML = docLinkHtml;\n",
              "          element.appendChild(docLink);\n",
              "        }\n",
              "      </script>\n",
              "    </div>\n",
              "  </div>\n",
              "  "
            ]
          },
          "metadata": {},
          "execution_count": 58
        }
      ]
    },
    {
      "cell_type": "code",
      "source": [
        "import numpy as np\n",
        "Acc = np.mean(abs(y_test-y_pred))\n",
        "print ('Точность: ', Acc)"
      ],
      "metadata": {
        "colab": {
          "base_uri": "https://localhost:8080/"
        },
        "id": "wYaFOQKibKAk",
        "outputId": "a8b75682-d113-4883-9204-527fba9c0fc8"
      },
      "execution_count": null,
      "outputs": [
        {
          "output_type": "stream",
          "name": "stdout",
          "text": [
            "Точность:  0.3101852686821818\n"
          ]
        }
      ]
    },
    {
      "cell_type": "code",
      "source": [
        "df['Actual'].corr(df['Predicted'], method='pearson')"
      ],
      "metadata": {
        "colab": {
          "base_uri": "https://localhost:8080/"
        },
        "id": "EBgoZGJ_fV79",
        "outputId": "23be9536-72ff-4c85-b6ed-f223aad4dce7"
      },
      "execution_count": null,
      "outputs": [
        {
          "output_type": "execute_result",
          "data": {
            "text/plain": [
              "0.48060751874208735"
            ]
          },
          "metadata": {},
          "execution_count": 60
        }
      ]
    },
    {
      "cell_type": "code",
      "source": [
        "df['Actual'].corr(df['Predicted'], method='spearman')"
      ],
      "metadata": {
        "colab": {
          "base_uri": "https://localhost:8080/"
        },
        "id": "XFH48PWg52N1",
        "outputId": "0014aebf-ed1a-4ab3-fc72-7f612d196236"
      },
      "execution_count": null,
      "outputs": [
        {
          "output_type": "execute_result",
          "data": {
            "text/plain": [
              "0.4471611298531017"
            ]
          },
          "metadata": {},
          "execution_count": 61
        }
      ]
    },
    {
      "cell_type": "code",
      "source": [
        "from sklearn import linear_model\n",
        "model = linear_model.LassoCV()\n",
        "model.fit(x_train, y_train) # обучение алгоритма"
      ],
      "metadata": {
        "colab": {
          "base_uri": "https://localhost:8080/"
        },
        "id": "jw2rW82zihfy",
        "outputId": "1e3aaf06-7b0d-47d6-c231-264aaf95efff"
      },
      "execution_count": null,
      "outputs": [
        {
          "output_type": "execute_result",
          "data": {
            "text/plain": [
              "LassoCV()"
            ]
          },
          "metadata": {},
          "execution_count": 66
        }
      ]
    },
    {
      "cell_type": "code",
      "source": [
        "model.coef_ # такие коэффициенты выбрала наша регрессионная модель"
      ],
      "metadata": {
        "colab": {
          "base_uri": "https://localhost:8080/"
        },
        "id": "XPU_Qa7Lih5d",
        "outputId": "50973bea-547b-4ad5-d561-99267f139b19"
      },
      "execution_count": null,
      "outputs": [
        {
          "output_type": "execute_result",
          "data": {
            "text/plain": [
              "array([ 1.23273403e-08,  2.02299282e-07,  0.00000000e+00,  0.00000000e+00,\n",
              "       -8.37024343e-05, -0.00000000e+00,  0.00000000e+00,  0.00000000e+00,\n",
              "       -1.65185967e-03,  0.00000000e+00, -0.00000000e+00, -0.00000000e+00,\n",
              "        0.00000000e+00,  0.00000000e+00,  0.00000000e+00,  0.00000000e+00,\n",
              "        0.00000000e+00,  1.05023947e-05,  1.91726244e-08])"
            ]
          },
          "metadata": {},
          "execution_count": 67
        }
      ]
    },
    {
      "cell_type": "code",
      "source": [
        "y_pred = model.predict(x_test) # прогнозы на тестовых данных"
      ],
      "metadata": {
        "id": "bvTzRnzDiiGE"
      },
      "execution_count": null,
      "outputs": []
    },
    {
      "cell_type": "code",
      "source": [
        "df = pd.DataFrame({'Actual': y_test, 'Predicted': y_pred, 'Accuracy': abs(y_test-y_pred)})\n",
        "df # сравнение фактических выходных значений для X_test с прогнозируемыми значениями"
      ],
      "metadata": {
        "colab": {
          "base_uri": "https://localhost:8080/",
          "height": 423
        },
        "id": "ELFaYQBkiiPM",
        "outputId": "035280af-198e-412b-952e-c4568afb2e8f"
      },
      "execution_count": null,
      "outputs": [
        {
          "output_type": "execute_result",
          "data": {
            "text/plain": [
              "        Actual  Predicted  Accuracy\n",
              "76299        1   0.800407  0.199593\n",
              "155932       1   0.828285  0.171715\n",
              "37173        1   0.901826  0.098174\n",
              "261398       1   0.811968  0.188032\n",
              "3212         1   0.816106  0.183894\n",
              "...        ...        ...       ...\n",
              "349413       1   0.819263  0.180737\n",
              "293295       1   0.746449  0.253551\n",
              "203249       0   0.579323  0.579323\n",
              "257396       1   0.700145  0.299855\n",
              "115126       1   0.629958  0.370042\n",
              "\n",
              "[92881 rows x 3 columns]"
            ],
            "text/html": [
              "\n",
              "  <div id=\"df-cb0e0d6b-6937-41cf-8045-493950cbe190\">\n",
              "    <div class=\"colab-df-container\">\n",
              "      <div>\n",
              "<style scoped>\n",
              "    .dataframe tbody tr th:only-of-type {\n",
              "        vertical-align: middle;\n",
              "    }\n",
              "\n",
              "    .dataframe tbody tr th {\n",
              "        vertical-align: top;\n",
              "    }\n",
              "\n",
              "    .dataframe thead th {\n",
              "        text-align: right;\n",
              "    }\n",
              "</style>\n",
              "<table border=\"1\" class=\"dataframe\">\n",
              "  <thead>\n",
              "    <tr style=\"text-align: right;\">\n",
              "      <th></th>\n",
              "      <th>Actual</th>\n",
              "      <th>Predicted</th>\n",
              "      <th>Accuracy</th>\n",
              "    </tr>\n",
              "  </thead>\n",
              "  <tbody>\n",
              "    <tr>\n",
              "      <th>76299</th>\n",
              "      <td>1</td>\n",
              "      <td>0.800407</td>\n",
              "      <td>0.199593</td>\n",
              "    </tr>\n",
              "    <tr>\n",
              "      <th>155932</th>\n",
              "      <td>1</td>\n",
              "      <td>0.828285</td>\n",
              "      <td>0.171715</td>\n",
              "    </tr>\n",
              "    <tr>\n",
              "      <th>37173</th>\n",
              "      <td>1</td>\n",
              "      <td>0.901826</td>\n",
              "      <td>0.098174</td>\n",
              "    </tr>\n",
              "    <tr>\n",
              "      <th>261398</th>\n",
              "      <td>1</td>\n",
              "      <td>0.811968</td>\n",
              "      <td>0.188032</td>\n",
              "    </tr>\n",
              "    <tr>\n",
              "      <th>3212</th>\n",
              "      <td>1</td>\n",
              "      <td>0.816106</td>\n",
              "      <td>0.183894</td>\n",
              "    </tr>\n",
              "    <tr>\n",
              "      <th>...</th>\n",
              "      <td>...</td>\n",
              "      <td>...</td>\n",
              "      <td>...</td>\n",
              "    </tr>\n",
              "    <tr>\n",
              "      <th>349413</th>\n",
              "      <td>1</td>\n",
              "      <td>0.819263</td>\n",
              "      <td>0.180737</td>\n",
              "    </tr>\n",
              "    <tr>\n",
              "      <th>293295</th>\n",
              "      <td>1</td>\n",
              "      <td>0.746449</td>\n",
              "      <td>0.253551</td>\n",
              "    </tr>\n",
              "    <tr>\n",
              "      <th>203249</th>\n",
              "      <td>0</td>\n",
              "      <td>0.579323</td>\n",
              "      <td>0.579323</td>\n",
              "    </tr>\n",
              "    <tr>\n",
              "      <th>257396</th>\n",
              "      <td>1</td>\n",
              "      <td>0.700145</td>\n",
              "      <td>0.299855</td>\n",
              "    </tr>\n",
              "    <tr>\n",
              "      <th>115126</th>\n",
              "      <td>1</td>\n",
              "      <td>0.629958</td>\n",
              "      <td>0.370042</td>\n",
              "    </tr>\n",
              "  </tbody>\n",
              "</table>\n",
              "<p>92881 rows × 3 columns</p>\n",
              "</div>\n",
              "      <button class=\"colab-df-convert\" onclick=\"convertToInteractive('df-cb0e0d6b-6937-41cf-8045-493950cbe190')\"\n",
              "              title=\"Convert this dataframe to an interactive table.\"\n",
              "              style=\"display:none;\">\n",
              "        \n",
              "  <svg xmlns=\"http://www.w3.org/2000/svg\" height=\"24px\"viewBox=\"0 0 24 24\"\n",
              "       width=\"24px\">\n",
              "    <path d=\"M0 0h24v24H0V0z\" fill=\"none\"/>\n",
              "    <path d=\"M18.56 5.44l.94 2.06.94-2.06 2.06-.94-2.06-.94-.94-2.06-.94 2.06-2.06.94zm-11 1L8.5 8.5l.94-2.06 2.06-.94-2.06-.94L8.5 2.5l-.94 2.06-2.06.94zm10 10l.94 2.06.94-2.06 2.06-.94-2.06-.94-.94-2.06-.94 2.06-2.06.94z\"/><path d=\"M17.41 7.96l-1.37-1.37c-.4-.4-.92-.59-1.43-.59-.52 0-1.04.2-1.43.59L10.3 9.45l-7.72 7.72c-.78.78-.78 2.05 0 2.83L4 21.41c.39.39.9.59 1.41.59.51 0 1.02-.2 1.41-.59l7.78-7.78 2.81-2.81c.8-.78.8-2.07 0-2.86zM5.41 20L4 18.59l7.72-7.72 1.47 1.35L5.41 20z\"/>\n",
              "  </svg>\n",
              "      </button>\n",
              "      \n",
              "  <style>\n",
              "    .colab-df-container {\n",
              "      display:flex;\n",
              "      flex-wrap:wrap;\n",
              "      gap: 12px;\n",
              "    }\n",
              "\n",
              "    .colab-df-convert {\n",
              "      background-color: #E8F0FE;\n",
              "      border: none;\n",
              "      border-radius: 50%;\n",
              "      cursor: pointer;\n",
              "      display: none;\n",
              "      fill: #1967D2;\n",
              "      height: 32px;\n",
              "      padding: 0 0 0 0;\n",
              "      width: 32px;\n",
              "    }\n",
              "\n",
              "    .colab-df-convert:hover {\n",
              "      background-color: #E2EBFA;\n",
              "      box-shadow: 0px 1px 2px rgba(60, 64, 67, 0.3), 0px 1px 3px 1px rgba(60, 64, 67, 0.15);\n",
              "      fill: #174EA6;\n",
              "    }\n",
              "\n",
              "    [theme=dark] .colab-df-convert {\n",
              "      background-color: #3B4455;\n",
              "      fill: #D2E3FC;\n",
              "    }\n",
              "\n",
              "    [theme=dark] .colab-df-convert:hover {\n",
              "      background-color: #434B5C;\n",
              "      box-shadow: 0px 1px 3px 1px rgba(0, 0, 0, 0.15);\n",
              "      filter: drop-shadow(0px 1px 2px rgba(0, 0, 0, 0.3));\n",
              "      fill: #FFFFFF;\n",
              "    }\n",
              "  </style>\n",
              "\n",
              "      <script>\n",
              "        const buttonEl =\n",
              "          document.querySelector('#df-cb0e0d6b-6937-41cf-8045-493950cbe190 button.colab-df-convert');\n",
              "        buttonEl.style.display =\n",
              "          google.colab.kernel.accessAllowed ? 'block' : 'none';\n",
              "\n",
              "        async function convertToInteractive(key) {\n",
              "          const element = document.querySelector('#df-cb0e0d6b-6937-41cf-8045-493950cbe190');\n",
              "          const dataTable =\n",
              "            await google.colab.kernel.invokeFunction('convertToInteractive',\n",
              "                                                     [key], {});\n",
              "          if (!dataTable) return;\n",
              "\n",
              "          const docLinkHtml = 'Like what you see? Visit the ' +\n",
              "            '<a target=\"_blank\" href=https://colab.research.google.com/notebooks/data_table.ipynb>data table notebook</a>'\n",
              "            + ' to learn more about interactive tables.';\n",
              "          element.innerHTML = '';\n",
              "          dataTable['output_type'] = 'display_data';\n",
              "          await google.colab.output.renderOutput(dataTable, element);\n",
              "          const docLink = document.createElement('div');\n",
              "          docLink.innerHTML = docLinkHtml;\n",
              "          element.appendChild(docLink);\n",
              "        }\n",
              "      </script>\n",
              "    </div>\n",
              "  </div>\n",
              "  "
            ]
          },
          "metadata": {},
          "execution_count": 69
        }
      ]
    },
    {
      "cell_type": "code",
      "source": [
        "Acc = np.mean(abs(y_test-y_pred))\n",
        "print ('Точность: ', Acc)"
      ],
      "metadata": {
        "colab": {
          "base_uri": "https://localhost:8080/"
        },
        "id": "v_o-REjdiiaO",
        "outputId": "b94039b6-1d86-4ae7-b341-b18f11225ad2"
      },
      "execution_count": null,
      "outputs": [
        {
          "output_type": "stream",
          "name": "stdout",
          "text": [
            "Точность:  0.30580589010463155\n"
          ]
        }
      ]
    },
    {
      "cell_type": "code",
      "source": [
        "df['Actual'].corr(df['Predicted'], method='pearson')"
      ],
      "metadata": {
        "colab": {
          "base_uri": "https://localhost:8080/"
        },
        "id": "ciEjXIiQiihu",
        "outputId": "6d60570b-caed-4d6b-998e-f297ad03ebdf"
      },
      "execution_count": null,
      "outputs": [
        {
          "output_type": "execute_result",
          "data": {
            "text/plain": [
              "0.4549179264843646"
            ]
          },
          "metadata": {},
          "execution_count": 71
        }
      ]
    },
    {
      "cell_type": "code",
      "source": [
        "df['Actual'].corr(df['Predicted'], method='spearman')"
      ],
      "metadata": {
        "id": "SIOKnxKiiiqz",
        "colab": {
          "base_uri": "https://localhost:8080/"
        },
        "outputId": "3684f8e8-4d1d-4ce5-e755-1a98ed43fd01"
      },
      "execution_count": null,
      "outputs": [
        {
          "output_type": "execute_result",
          "data": {
            "text/plain": [
              "0.4319907105031515"
            ]
          },
          "metadata": {},
          "execution_count": 72
        }
      ]
    },
    {
      "cell_type": "code",
      "source": [
        ""
      ],
      "metadata": {
        "id": "W5TzXEIFii06"
      },
      "execution_count": null,
      "outputs": []
    }
  ]
}