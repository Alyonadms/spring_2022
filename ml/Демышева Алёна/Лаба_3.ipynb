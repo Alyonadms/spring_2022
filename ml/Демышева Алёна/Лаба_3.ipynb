{
  "cells": [
    {
      "cell_type": "markdown",
      "metadata": {
        "id": "uOeV5GGhKted"
      },
      "source": [
        "Информация об атрибутах: (классы: съедобный = e, ядовитый = p)\n",
        "\n",
        "- форма колпачка: колокольчик=b,конический=c,выпуклый=x, плоский=f, выпуклый=k, утопленный=s\n",
        "\n",
        "- поверхность шляпки: волокнистая=f,бороздки=g, чешуйчатая=y, гладкая=s\n",
        "\n",
        "- цвет кепки: коричневый=n,желтый=b,коричный=c,серый=g,зеленый=r,розовый=p,фиолетовый=u,красный=e,белый=w,желтый=y\n",
        "\n",
        "- синяки: синяки=t,no=f\n",
        "\n",
        "- запах: миндальный=a,анисовый=l,креозот=c,рыбный=y,неприятный=f,затхлый=m,нет=n,острый=p,пряный=s\n",
        "\n",
        "- жаберное прикрепление: прикреплено = a, нисходящее = d, свободное = f, зубчатое = n\n",
        "\n",
        "- расстояние между жабрами: близко=с, переполнено=w, далеко=d\n",
        "\n",
        "- размер жабр: широкий=b, узкий=n\n",
        "\n",
        "- цвет жабр: черный = k, коричневый = n, желтовато-коричневый = b, шоколадный = h, серый = g, зеленый = r, оранжевый = o, розовый = p, фиолетовый = u, красный = e, белый = w, желтый =у\n",
        "\n",
        "- форма стебля: увеличение = e, сужение = t\n",
        "\n",
        "- стебель-корень: луковичный=b,клуб=с,чашка=u,равный=e,ризоморфы=z,укорененный=r,отсутствует=?\n",
        "\n",
        "- поверхность стебля над кольцом: волокнистая = f, чешуйчатая = y, шелковистая = k, гладкая = s\n",
        "\n",
        "- поверхность стебля под кольцом: волокнистая = f, чешуйчатая = y, шелковистая = k, гладкая = s\n",
        "\n",
        "- цвет стебля-над-кольцом: коричневый=n,охристый=b,коричный=c,серый=g,оранжевый=o,розовый=p,красный=e,белый=w,желтый=y\n",
        "\n",
        "- цвет стебля под кольцом: коричневый=n,желтый=b,коричный=c,серый=g,оранжевый=o,розовый=p,красный=e,белый=w,желтый=y\n",
        "\n",
        "- тип завесы: частичный=p, универсальный=u\n",
        "\n",
        "- цвет вуали: коричневый=n,оранжевый=o,белый=w,желтый=y\n",
        "\n",
        "- номер звонка: нет=n,один=o,два=t\n",
        "\n",
        "- тип кольца: паутинка=c,непроницаемый=e,расклешение=f,большой=l,нет=n, подвеска=p, обшивка=s, зона=z\n",
        "\n",
        "- цвет спорового отпечатка: черный=k,коричневый=n,желтый=b,шоколад=h,зеленый=r,оранжевый=o,фиолетовый=u,белый=w,желтый=y\n",
        "\n",
        "- популяция: многочисленная = a, кластерная = c, многочисленная = n, рассеянная = s, несколько = v, одиночная = y\n",
        "\n",
        "- среда обитания: травы=g, листья=l, луга=m, тропы=p,город=u,отходы=w,леса=d\n"
      ]
    },
    {
      "cell_type": "code",
      "execution_count": null,
      "metadata": {
        "id": "CQf1dEeWK-IT"
      },
      "outputs": [],
      "source": [
        "import pandas as pd\n",
        "import numpy as np\n",
        "import seaborn as sns\n",
        "import matplotlib.pyplot as plt\n",
        "from sklearn.preprocessing import MinMaxScaler"
      ]
    },
    {
      "cell_type": "code",
      "execution_count": null,
      "metadata": {
        "colab": {
          "base_uri": "https://localhost:8080/",
          "height": 74,
          "resources": {
            "http://localhost:8080/nbextensions/google.colab/files.js": {
              "data": "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",
              "headers": [
                [
                  "content-type",
                  "application/javascript"
                ]
              ],
              "ok": true,
              "status": 200,
              "status_text": ""
            }
          }
        },
        "id": "zhEGQOs2K90m",
        "outputId": "3f5e261c-5425-4cdb-fe08-7538813259c2"
      },
      "outputs": [
        {
          "output_type": "display_data",
          "data": {
            "text/plain": [
              "<IPython.core.display.HTML object>"
            ],
            "text/html": [
              "\n",
              "     <input type=\"file\" id=\"files-0b2d6b5b-b619-4dd2-bd53-56f12e9fe060\" name=\"files[]\" multiple disabled\n",
              "        style=\"border:none\" />\n",
              "     <output id=\"result-0b2d6b5b-b619-4dd2-bd53-56f12e9fe060\">\n",
              "      Upload widget is only available when the cell has been executed in the\n",
              "      current browser session. Please rerun this cell to enable.\n",
              "      </output>\n",
              "      <script src=\"/nbextensions/google.colab/files.js\"></script> "
            ]
          },
          "metadata": {}
        },
        {
          "output_type": "stream",
          "name": "stdout",
          "text": [
            "Saving mushrooms.csv to mushrooms.csv\n"
          ]
        }
      ],
      "source": [
        "from google.colab import files\n",
        "uploaded = files.upload()"
      ]
    },
    {
      "cell_type": "code",
      "execution_count": null,
      "metadata": {
        "colab": {
          "base_uri": "https://localhost:8080/"
        },
        "id": "i5UEiiDbNZ1x",
        "outputId": "75d7804f-8d6c-454d-e84c-1d15cf065087"
      },
      "outputs": [
        {
          "output_type": "stream",
          "name": "stdout",
          "text": [
            "  class cap-shape cap-surface cap-color bruises odor gill-attachment  \\\n",
            "0     p         x           s         n       t    p               f   \n",
            "1     e         x           s         y       t    a               f   \n",
            "2     e         b           s         w       t    l               f   \n",
            "3     p         x           y         w       t    p               f   \n",
            "4     e         x           s         g       f    n               f   \n",
            "\n",
            "  gill-spacing gill-size gill-color  ... stalk-surface-below-ring  \\\n",
            "0            c         n          k  ...                        s   \n",
            "1            c         b          k  ...                        s   \n",
            "2            c         b          n  ...                        s   \n",
            "3            c         n          n  ...                        s   \n",
            "4            w         b          k  ...                        s   \n",
            "\n",
            "  stalk-color-above-ring stalk-color-below-ring veil-type veil-color  \\\n",
            "0                      w                      w         p          w   \n",
            "1                      w                      w         p          w   \n",
            "2                      w                      w         p          w   \n",
            "3                      w                      w         p          w   \n",
            "4                      w                      w         p          w   \n",
            "\n",
            "  ring-number ring-type spore-print-color population habitat  \n",
            "0           o         p                 k          s       u  \n",
            "1           o         p                 n          n       g  \n",
            "2           o         p                 n          n       m  \n",
            "3           o         p                 k          s       u  \n",
            "4           o         e                 n          a       g  \n",
            "\n",
            "[5 rows x 23 columns]\n"
          ]
        }
      ],
      "source": [
        "mushrooms_df = pd.read_csv(\"mushrooms.csv\", sep = \",\")\n",
        "print(mushrooms_df.head())"
      ]
    },
    {
      "cell_type": "code",
      "execution_count": null,
      "metadata": {
        "colab": {
          "base_uri": "https://localhost:8080/"
        },
        "id": "DyRjor02Nodd",
        "outputId": "0e24fee7-c488-4b08-9387-68b01ea6784a"
      },
      "outputs": [
        {
          "output_type": "execute_result",
          "data": {
            "text/plain": [
              "(8124, 23)"
            ]
          },
          "metadata": {},
          "execution_count": 4
        }
      ],
      "source": [
        "mushrooms_df.shape # размер набора данных до удаления"
      ]
    },
    {
      "cell_type": "code",
      "execution_count": null,
      "metadata": {
        "colab": {
          "base_uri": "https://localhost:8080/"
        },
        "id": "xzPz7_VnMC61",
        "outputId": "586b98be-a6b1-44f8-dc46-31805393e734"
      },
      "outputs": [
        {
          "output_type": "execute_result",
          "data": {
            "text/plain": [
              "(8124, 23)"
            ]
          },
          "metadata": {},
          "execution_count": 5
        }
      ],
      "source": [
        "mushrooms_df.drop_duplicates(keep = 'first', inplace = True) # удаление повторяющихся строк\n",
        "mushrooms_df.shape"
      ]
    },
    {
      "cell_type": "code",
      "execution_count": null,
      "metadata": {
        "colab": {
          "base_uri": "https://localhost:8080/",
          "height": 279
        },
        "id": "HwDOiSjzMC0O",
        "outputId": "6bb32560-fac5-46e3-edd5-3797ce4891fb"
      },
      "outputs": [
        {
          "output_type": "display_data",
          "data": {
            "text/plain": [
              "<Figure size 432x288 with 1 Axes>"
            ],
            "image/png": "[encoded data removed]"
          },
          "metadata": {
            "needs_background": "light"
          }
        }
      ],
      "source": [
        "sns.countplot(x = 'class', data = mushrooms_df) # гистограмма сбалансированности данных \n",
        "plt.show()"
      ]
    },
    {
      "cell_type": "code",
      "execution_count": null,
      "metadata": {
        "colab": {
          "base_uri": "https://localhost:8080/",
          "height": 508
        },
        "id": "qQF3o-xmC-lf",
        "outputId": "036fe50e-d117-4677-ee50-94cbc8019dc5"
      },
      "outputs": [
        {
          "output_type": "execute_result",
          "data": {
            "text/plain": [
              "   class  cap-shape  cap-surface  cap-color  bruises  odor  gill-attachment  \\\n",
              "0      1          5            2          4        1     6                1   \n",
              "1      0          5            2          9        1     0                1   \n",
              "2      0          0            2          8        1     3                1   \n",
              "3      1          5            3          8        1     6                1   \n",
              "4      0          5            2          3        0     5                1   \n",
              "5      0          5            3          9        1     0                1   \n",
              "6      0          0            2          8        1     0                1   \n",
              "7      0          0            3          8        1     3                1   \n",
              "8      1          5            3          8        1     6                1   \n",
              "9      0          0            2          9        1     0                1   \n",
              "\n",
              "   gill-spacing  gill-size  gill-color  ...  stalk-surface-below-ring  \\\n",
              "0             0          1           4  ...                         2   \n",
              "1             0          0           4  ...                         2   \n",
              "2             0          0           5  ...                         2   \n",
              "3             0          1           5  ...                         2   \n",
              "4             1          0           4  ...                         2   \n",
              "5             0          0           5  ...                         2   \n",
              "6             0          0           2  ...                         2   \n",
              "7             0          0           5  ...                         2   \n",
              "8             0          1           7  ...                         2   \n",
              "9             0          0           2  ...                         2   \n",
              "\n",
              "   stalk-color-above-ring  stalk-color-below-ring  veil-type  veil-color  \\\n",
              "0                       7                       7          0           2   \n",
              "1                       7                       7          0           2   \n",
              "2                       7                       7          0           2   \n",
              "3                       7                       7          0           2   \n",
              "4                       7                       7          0           2   \n",
              "5                       7                       7          0           2   \n",
              "6                       7                       7          0           2   \n",
              "7                       7                       7          0           2   \n",
              "8                       7                       7          0           2   \n",
              "9                       7                       7          0           2   \n",
              "\n",
              "   ring-number  ring-type  spore-print-color  population  habitat  \n",
              "0            1          4                  2           3        5  \n",
              "1            1          4                  3           2        1  \n",
              "2            1          4                  3           2        3  \n",
              "3            1          4                  2           3        5  \n",
              "4            1          0                  3           0        1  \n",
              "5            1          4                  2           2        1  \n",
              "6            1          4                  2           2        3  \n",
              "7            1          4                  3           3        3  \n",
              "8            1          4                  2           4        1  \n",
              "9            1          4                  2           3        3  \n",
              "\n",
              "[10 rows x 23 columns]"
            ],
            "text/html": [
              "\n",
              "  <div id=\"df-cd2c5adf-e448-4411-a9bf-bdec5cad7f89\">\n",
              "    <div class=\"colab-df-container\">\n",
              "      <div>\n",
              "<style scoped>\n",
              "    .dataframe tbody tr th:only-of-type {\n",
              "        vertical-align: middle;\n",
              "    }\n",
              "\n",
              "    .dataframe tbody tr th {\n",
              "        vertical-align: top;\n",
              "    }\n",
              "\n",
              "    .dataframe thead th {\n",
              "        text-align: right;\n",
              "    }\n",
              "</style>\n",
              "<table border=\"1\" class=\"dataframe\">\n",
              "  <thead>\n",
              "    <tr style=\"text-align: right;\">\n",
              "      <th></th>\n",
              "      <th>class</th>\n",
              "      <th>cap-shape</th>\n",
              "      <th>cap-surface</th>\n",
              "      <th>cap-color</th>\n",
              "      <th>bruises</th>\n",
              "      <th>odor</th>\n",
              "      <th>gill-attachment</th>\n",
              "      <th>gill-spacing</th>\n",
              "      <th>gill-size</th>\n",
              "      <th>gill-color</th>\n",
              "      <th>...</th>\n",
              "      <th>stalk-surface-below-ring</th>\n",
              "      <th>stalk-color-above-ring</th>\n",
              "      <th>stalk-color-below-ring</th>\n",
              "      <th>veil-type</th>\n",
              "      <th>veil-color</th>\n",
              "      <th>ring-number</th>\n",
              "      <th>ring-type</th>\n",
              "      <th>spore-print-color</th>\n",
              "      <th>population</th>\n",
              "      <th>habitat</th>\n",
              "    </tr>\n",
              "  </thead>\n",
              "  <tbody>\n",
              "    <tr>\n",
              "      <th>0</th>\n",
              "      <td>1</td>\n",
              "      <td>5</td>\n",
              "      <td>2</td>\n",
              "      <td>4</td>\n",
              "      <td>1</td>\n",
              "      <td>6</td>\n",
              "      <td>1</td>\n",
              "      <td>0</td>\n",
              "      <td>1</td>\n",
              "      <td>4</td>\n",
              "      <td>...</td>\n",
              "      <td>2</td>\n",
              "      <td>7</td>\n",
              "      <td>7</td>\n",
              "      <td>0</td>\n",
              "      <td>2</td>\n",
              "      <td>1</td>\n",
              "      <td>4</td>\n",
              "      <td>2</td>\n",
              "      <td>3</td>\n",
              "      <td>5</td>\n",
              "    </tr>\n",
              "    <tr>\n",
              "      <th>1</th>\n",
              "      <td>0</td>\n",
              "      <td>5</td>\n",
              "      <td>2</td>\n",
              "      <td>9</td>\n",
              "      <td>1</td>\n",
              "      <td>0</td>\n",
              "      <td>1</td>\n",
              "      <td>0</td>\n",
              "      <td>0</td>\n",
              "      <td>4</td>\n",
              "      <td>...</td>\n",
              "      <td>2</td>\n",
              "      <td>7</td>\n",
              "      <td>7</td>\n",
              "      <td>0</td>\n",
              "      <td>2</td>\n",
              "      <td>1</td>\n",
              "      <td>4</td>\n",
              "      <td>3</td>\n",
              "      <td>2</td>\n",
              "      <td>1</td>\n",
              "    </tr>\n",
              "    <tr>\n",
              "      <th>2</th>\n",
              "      <td>0</td>\n",
              "      <td>0</td>\n",
              "      <td>2</td>\n",
              "      <td>8</td>\n",
              "      <td>1</td>\n",
              "      <td>3</td>\n",
              "      <td>1</td>\n",
              "      <td>0</td>\n",
              "      <td>0</td>\n",
              "      <td>5</td>\n",
              "      <td>...</td>\n",
              "      <td>2</td>\n",
              "      <td>7</td>\n",
              "      <td>7</td>\n",
              "      <td>0</td>\n",
              "      <td>2</td>\n",
              "      <td>1</td>\n",
              "      <td>4</td>\n",
              "      <td>3</td>\n",
              "      <td>2</td>\n",
              "      <td>3</td>\n",
              "    </tr>\n",
              "    <tr>\n",
              "      <th>3</th>\n",
              "      <td>1</td>\n",
              "      <td>5</td>\n",
              "      <td>3</td>\n",
              "      <td>8</td>\n",
              "      <td>1</td>\n",
              "      <td>6</td>\n",
              "      <td>1</td>\n",
              "      <td>0</td>\n",
              "      <td>1</td>\n",
              "      <td>5</td>\n",
              "      <td>...</td>\n",
              "      <td>2</td>\n",
              "      <td>7</td>\n",
              "      <td>7</td>\n",
              "      <td>0</td>\n",
              "      <td>2</td>\n",
              "      <td>1</td>\n",
              "      <td>4</td>\n",
              "      <td>2</td>\n",
              "      <td>3</td>\n",
              "      <td>5</td>\n",
              "    </tr>\n",
              "    <tr>\n",
              "      <th>4</th>\n",
              "      <td>0</td>\n",
              "      <td>5</td>\n",
              "      <td>2</td>\n",
              "      <td>3</td>\n",
              "      <td>0</td>\n",
              "      <td>5</td>\n",
              "      <td>1</td>\n",
              "      <td>1</td>\n",
              "      <td>0</td>\n",
              "      <td>4</td>\n",
              "      <td>...</td>\n",
              "      <td>2</td>\n",
              "      <td>7</td>\n",
              "      <td>7</td>\n",
              "      <td>0</td>\n",
              "      <td>2</td>\n",
              "      <td>1</td>\n",
              "      <td>0</td>\n",
              "      <td>3</td>\n",
              "      <td>0</td>\n",
              "      <td>1</td>\n",
              "    </tr>\n",
              "    <tr>\n",
              "      <th>5</th>\n",
              "      <td>0</td>\n",
              "      <td>5</td>\n",
              "      <td>3</td>\n",
              "      <td>9</td>\n",
              "      <td>1</td>\n",
              "      <td>0</td>\n",
              "      <td>1</td>\n",
              "      <td>0</td>\n",
              "      <td>0</td>\n",
              "      <td>5</td>\n",
              "      <td>...</td>\n",
              "      <td>2</td>\n",
              "      <td>7</td>\n",
              "      <td>7</td>\n",
              "      <td>0</td>\n",
              "      <td>2</td>\n",
              "      <td>1</td>\n",
              "      <td>4</td>\n",
              "      <td>2</td>\n",
              "      <td>2</td>\n",
              "      <td>1</td>\n",
              "    </tr>\n",
              "    <tr>\n",
              "      <th>6</th>\n",
              "      <td>0</td>\n",
              "      <td>0</td>\n",
              "      <td>2</td>\n",
              "      <td>8</td>\n",
              "      <td>1</td>\n",
              "      <td>0</td>\n",
              "      <td>1</td>\n",
              "      <td>0</td>\n",
              "      <td>0</td>\n",
              "      <td>2</td>\n",
              "      <td>...</td>\n",
              "      <td>2</td>\n",
              "      <td>7</td>\n",
              "      <td>7</td>\n",
              "      <td>0</td>\n",
              "      <td>2</td>\n",
              "      <td>1</td>\n",
              "      <td>4</td>\n",
              "      <td>2</td>\n",
              "      <td>2</td>\n",
              "      <td>3</td>\n",
              "    </tr>\n",
              "    <tr>\n",
              "      <th>7</th>\n",
              "      <td>0</td>\n",
              "      <td>0</td>\n",
              "      <td>3</td>\n",
              "      <td>8</td>\n",
              "      <td>1</td>\n",
              "      <td>3</td>\n",
              "      <td>1</td>\n",
              "      <td>0</td>\n",
              "      <td>0</td>\n",
              "      <td>5</td>\n",
              "      <td>...</td>\n",
              "      <td>2</td>\n",
              "      <td>7</td>\n",
              "      <td>7</td>\n",
              "      <td>0</td>\n",
              "      <td>2</td>\n",
              "      <td>1</td>\n",
              "      <td>4</td>\n",
              "      <td>3</td>\n",
              "      <td>3</td>\n",
              "      <td>3</td>\n",
              "    </tr>\n",
              "    <tr>\n",
              "      <th>8</th>\n",
              "      <td>1</td>\n",
              "      <td>5</td>\n",
              "      <td>3</td>\n",
              "      <td>8</td>\n",
              "      <td>1</td>\n",
              "      <td>6</td>\n",
              "      <td>1</td>\n",
              "      <td>0</td>\n",
              "      <td>1</td>\n",
              "      <td>7</td>\n",
              "      <td>...</td>\n",
              "      <td>2</td>\n",
              "      <td>7</td>\n",
              "      <td>7</td>\n",
              "      <td>0</td>\n",
              "      <td>2</td>\n",
              "      <td>1</td>\n",
              "      <td>4</td>\n",
              "      <td>2</td>\n",
              "      <td>4</td>\n",
              "      <td>1</td>\n",
              "    </tr>\n",
              "    <tr>\n",
              "      <th>9</th>\n",
              "      <td>0</td>\n",
              "      <td>0</td>\n",
              "      <td>2</td>\n",
              "      <td>9</td>\n",
              "      <td>1</td>\n",
              "      <td>0</td>\n",
              "      <td>1</td>\n",
              "      <td>0</td>\n",
              "      <td>0</td>\n",
              "      <td>2</td>\n",
              "      <td>...</td>\n",
              "      <td>2</td>\n",
              "      <td>7</td>\n",
              "      <td>7</td>\n",
              "      <td>0</td>\n",
              "      <td>2</td>\n",
              "      <td>1</td>\n",
              "      <td>4</td>\n",
              "      <td>2</td>\n",
              "      <td>3</td>\n",
              "      <td>3</td>\n",
              "    </tr>\n",
              "  </tbody>\n",
              "</table>\n",
              "<p>10 rows × 23 columns</p>\n",
              "</div>\n",
              "      <button class=\"colab-df-convert\" onclick=\"convertToInteractive('df-cd2c5adf-e448-4411-a9bf-bdec5cad7f89')\"\n",
              "              title=\"Convert this dataframe to an interactive table.\"\n",
              "              style=\"display:none;\">\n",
              "        \n",
              "  <svg xmlns=\"http://www.w3.org/2000/svg\" height=\"24px\"viewBox=\"0 0 24 24\"\n",
              "       width=\"24px\">\n",
              "    <path d=\"M0 0h24v24H0V0z\" fill=\"none\"/>\n",
              "    <path d=\"M18.56 5.44l.94 2.06.94-2.06 2.06-.94-2.06-.94-.94-2.06-.94 2.06-2.06.94zm-11 1L8.5 8.5l.94-2.06 2.06-.94-2.06-.94L8.5 2.5l-.94 2.06-2.06.94zm10 10l.94 2.06.94-2.06 2.06-.94-2.06-.94-.94-2.06-.94 2.06-2.06.94z\"/><path d=\"M17.41 7.96l-1.37-1.37c-.4-.4-.92-.59-1.43-.59-.52 0-1.04.2-1.43.59L10.3 9.45l-7.72 7.72c-.78.78-.78 2.05 0 2.83L4 21.41c.39.39.9.59 1.41.59.51 0 1.02-.2 1.41-.59l7.78-7.78 2.81-2.81c.8-.78.8-2.07 0-2.86zM5.41 20L4 18.59l7.72-7.72 1.47 1.35L5.41 20z\"/>\n",
              "  </svg>\n",
              "      </button>\n",
              "      \n",
              "  <style>\n",
              "    .colab-df-container {\n",
              "      display:flex;\n",
              "      flex-wrap:wrap;\n",
              "      gap: 12px;\n",
              "    }\n",
              "\n",
              "    .colab-df-convert {\n",
              "      background-color: #E8F0FE;\n",
              "      border: none;\n",
              "      border-radius: 50%;\n",
              "      cursor: pointer;\n",
              "      display: none;\n",
              "      fill: #1967D2;\n",
              "      height: 32px;\n",
              "      padding: 0 0 0 0;\n",
              "      width: 32px;\n",
              "    }\n",
              "\n",
              "    .colab-df-convert:hover {\n",
              "      background-color: #E2EBFA;\n",
              "      box-shadow: 0px 1px 2px rgba(60, 64, 67, 0.3), 0px 1px 3px 1px rgba(60, 64, 67, 0.15);\n",
              "      fill: #174EA6;\n",
              "    }\n",
              "\n",
              "    [theme=dark] .colab-df-convert {\n",
              "      background-color: #3B4455;\n",
              "      fill: #D2E3FC;\n",
              "    }\n",
              "\n",
              "    [theme=dark] .colab-df-convert:hover {\n",
              "      background-color: #434B5C;\n",
              "      box-shadow: 0px 1px 3px 1px rgba(0, 0, 0, 0.15);\n",
              "      filter: drop-shadow(0px 1px 2px rgba(0, 0, 0, 0.3));\n",
              "      fill: #FFFFFF;\n",
              "    }\n",
              "  </style>\n",
              "\n",
              "      <script>\n",
              "        const buttonEl =\n",
              "          document.querySelector('#df-cd2c5adf-e448-4411-a9bf-bdec5cad7f89 button.colab-df-convert');\n",
              "        buttonEl.style.display =\n",
              "          google.colab.kernel.accessAllowed ? 'block' : 'none';\n",
              "\n",
              "        async function convertToInteractive(key) {\n",
              "          const element = document.querySelector('#df-cd2c5adf-e448-4411-a9bf-bdec5cad7f89');\n",
              "          const dataTable =\n",
              "            await google.colab.kernel.invokeFunction('convertToInteractive',\n",
              "                                                     [key], {});\n",
              "          if (!dataTable) return;\n",
              "\n",
              "          const docLinkHtml = 'Like what you see? Visit the ' +\n",
              "            '<a target=\"_blank\" href=https://colab.research.google.com/notebooks/data_table.ipynb>data table notebook</a>'\n",
              "            + ' to learn more about interactive tables.';\n",
              "          element.innerHTML = '';\n",
              "          dataTable['output_type'] = 'display_data';\n",
              "          await google.colab.output.renderOutput(dataTable, element);\n",
              "          const docLink = document.createElement('div');\n",
              "          docLink.innerHTML = docLinkHtml;\n",
              "          element.appendChild(docLink);\n",
              "        }\n",
              "      </script>\n",
              "    </div>\n",
              "  </div>\n",
              "  "
            ]
          },
          "metadata": {},
          "execution_count": 7
        }
      ],
      "source": [
        "from s\n",
        "                                            #одновременно и обучаемся и преобразуем тренировочные данные\n",
        "mushrooms_df.head(10)"
      ]
    },
    {
      "cell_type": "code",
      "execution_count": null,
      "metadata": {
        "colab": {
          "base_uri": "https://localhost:8080/",
          "height": 450
        },
        "id": "0-y67SL4cMEV",
        "outputId": "ca3a978e-566c-4e6f-f571-42ad71969685"
      },
      "outputs": [
        {
          "output_type": "execute_result",
          "data": {
            "text/plain": [
              "<matplotlib.axes._subplots.AxesSubplot at 0x7fcf2dfe25d0>"
            ]
          },
          "metadata": {},
          "execution_count": 8
        },
        {
          "output_type": "display_data",
          "data": {
            "text/plain": [
              "<Figure size 1296x360 with 1 Axes>"
            ],
            "image/png": "[encoded data removed]"
          },
          "metadata": {
            "needs_background": "light"
          }
        }
      ],
      "source": [
        "fig = plt.figure(figsize=(18, 5))\n",
        "plt.xticks(rotation='vertical')\n",
        "sns.boxplot(data = mushrooms_df) # диаграмма BoxPlot для признаков до масштабирования"
      ]
    },
    {
      "cell_type": "code",
      "execution_count": null,
      "metadata": {
        "colab": {
          "base_uri": "https://localhost:8080/",
          "height": 450
        },
        "id": "zbJyvHGKdq20",
        "outputId": "c8c894a4-0cc0-46b8-d28d-4c8abc4cb414"
      },
      "outputs": [
        {
          "output_type": "execute_result",
          "data": {
            "text/plain": [
              "<matplotlib.axes._subplots.AxesSubplot at 0x7fcf2dfe2790>"
            ]
          },
          "metadata": {},
          "execution_count": 9
        },
        {
          "output_type": "display_data",
          "data": {
            "text/plain": [
              "<Figure size 1296x360 with 1 Axes>"
            ],
            "image/png": "[encoded data removed]"
          },
          "metadata": {
            "needs_background": "light"
          }
        }
      ],
      "source": [
        "scaler = MinMaxScaler() # масштабирует(нормализация) все функции данных в диапазоне [0, 1] \n",
        "columns = mushrooms_df.columns\n",
        "mushrooms_df[columns] = scaler.fit_transform(mushrooms_df[columns]) # одновременно и обучаемся и преобразуем тренировочные данные\n",
        "\n",
        "fig = plt.figure(figsize=(18, 5))\n",
        "plt.xticks(rotation='vertical')\n",
        "\n",
        "sns.boxplot(data = mushrooms_df) # диаграмма BoxPlot для признаков после масштабирования"
      ]
    },
    {
      "cell_type": "code",
      "execution_count": null,
      "metadata": {
        "colab": {
          "base_uri": "https://localhost:8080/",
          "height": 1000
        },
        "id": "64LWNbbdKR0y",
        "outputId": "5eec7c58-0644-4cd1-961a-c53fd41b1995"
      },
      "outputs": [
        {
          "output_type": "stream",
          "name": "stdout",
          "text": [
            "                             class  cap-shape  cap-surface  cap-color  \\\n",
            "class                     1.000000   0.052951     0.178446  -0.031384   \n",
            "cap-shape                 0.052951   1.000000    -0.050454  -0.048203   \n",
            "cap-surface               0.178446  -0.050454     1.000000  -0.019402   \n",
            "cap-color                -0.031384  -0.048203    -0.019402   1.000000   \n",
            "bruises                  -0.501530  -0.035374     0.070228  -0.000764   \n",
            "odor                     -0.093552  -0.021935     0.045233  -0.387121   \n",
            "gill-attachment           0.129200   0.078865    -0.034180   0.041436   \n",
            "gill-spacing             -0.348387   0.013196    -0.282306   0.144259   \n",
            "gill-size                 0.540024   0.054050     0.208100  -0.169464   \n",
            "gill-color               -0.530566  -0.006039    -0.161017   0.084659   \n",
            "stalk-shape              -0.102019   0.063794    -0.014123  -0.456496   \n",
            "stalk-root               -0.379361   0.030191    -0.126245   0.321274   \n",
            "stalk-surface-above-ring -0.334593  -0.030417     0.089090  -0.060837   \n",
            "stalk-surface-below-ring -0.298801  -0.032591     0.107965  -0.047710   \n",
            "stalk-color-above-ring   -0.154003  -0.031659     0.066050   0.002364   \n",
            "stalk-color-below-ring   -0.146730  -0.030390     0.068885   0.008057   \n",
            "veil-type                      NaN        NaN          NaN        NaN   \n",
            "veil-color                0.145142   0.072560    -0.016603   0.036130   \n",
            "ring-number              -0.214366  -0.106534    -0.026147  -0.005822   \n",
            "ring-type                -0.411771  -0.025457    -0.106407   0.162513   \n",
            "spore-print-color         0.171961  -0.073416     0.230364  -0.293523   \n",
            "population                0.298686   0.063413     0.021555  -0.144770   \n",
            "habitat                   0.217179  -0.042221     0.163887   0.033925   \n",
            "\n",
            "                           bruises      odor  gill-attachment  gill-spacing  \\\n",
            "class                    -0.501530 -0.093552         0.129200     -0.348387   \n",
            "cap-shape                -0.035374 -0.021935         0.078865      0.013196   \n",
            "cap-surface               0.070228  0.045233        -0.034180     -0.282306   \n",
            "cap-color                -0.000764 -0.387121         0.041436      0.144259   \n",
            "bruises                   1.000000 -0.061825         0.137359     -0.299473   \n",
            "odor                     -0.061825  1.000000        -0.059590      0.063936   \n",
            "gill-attachment           0.137359 -0.059590         1.000000      0.071489   \n",
            "gill-spacing             -0.299473  0.063936         0.071489      1.000000   \n",
            "gill-size                -0.369596  0.310495         0.108984     -0.108333   \n",
            "gill-color                0.527120 -0.129213        -0.128567      0.100193   \n",
            "stalk-shape               0.099364  0.459766         0.186485      0.080895   \n",
            "stalk-root                0.244188 -0.205215         0.144063      0.350548   \n",
            "stalk-surface-above-ring  0.460824  0.118617        -0.088916     -0.212359   \n",
            "stalk-surface-below-ring  0.458983  0.061820        -0.116177     -0.213775   \n",
            "stalk-color-above-ring    0.083538  0.174532         0.099299      0.274574   \n",
            "stalk-color-below-ring    0.092874  0.169407         0.097160      0.253505   \n",
            "veil-type                      NaN       NaN              NaN           NaN   \n",
            "veil-color                0.119770 -0.057747         0.897518      0.073363   \n",
            "ring-number               0.056788  0.111905         0.093236      0.243014   \n",
            "ring-type                 0.692973 -0.281387        -0.146689     -0.195897   \n",
            "spore-print-color        -0.285008  0.469055        -0.029524      0.047323   \n",
            "population                0.088137 -0.043623         0.165575     -0.529253   \n",
            "habitat                  -0.075095 -0.026610        -0.030304     -0.154680   \n",
            "\n",
            "                          gill-size  gill-color  ...  \\\n",
            "class                      0.540024   -0.530566  ...   \n",
            "cap-shape                  0.054050   -0.006039  ...   \n",
            "cap-surface                0.208100   -0.161017  ...   \n",
            "cap-color                 -0.169464    0.084659  ...   \n",
            "bruises                   -0.369596    0.527120  ...   \n",
            "odor                       0.310495   -0.129213  ...   \n",
            "gill-attachment            0.108984   -0.128567  ...   \n",
            "gill-spacing              -0.108333    0.100193  ...   \n",
            "gill-size                  1.000000   -0.516736  ...   \n",
            "gill-color                -0.516736    1.000000  ...   \n",
            "stalk-shape                0.214576   -0.175699  ...   \n",
            "stalk-root                -0.344345    0.315080  ...   \n",
            "stalk-surface-above-ring   0.056310    0.224287  ...   \n",
            "stalk-surface-below-ring   0.010894    0.257224  ...   \n",
            "stalk-color-above-ring     0.296548   -0.058299  ...   \n",
            "stalk-color-below-ring     0.278708   -0.074781  ...   \n",
            "veil-type                       NaN         NaN  ...   \n",
            "veil-color                 0.103809   -0.097583  ...   \n",
            "ring-number               -0.171362    0.096054  ...   \n",
            "ring-type                 -0.460872    0.629398  ...   \n",
            "spore-print-color          0.622991   -0.416135  ...   \n",
            "population                 0.147682   -0.034090  ...   \n",
            "habitat                    0.161418   -0.202972  ...   \n",
            "\n",
            "                          stalk-surface-below-ring  stalk-color-above-ring  \\\n",
            "class                                    -0.298801               -0.154003   \n",
            "cap-shape                                -0.032591               -0.031659   \n",
            "cap-surface                               0.107965                0.066050   \n",
            "cap-color                                -0.047710                0.002364   \n",
            "bruises                                   0.458983                0.083538   \n",
            "odor                                      0.061820                0.174532   \n",
            "gill-attachment                          -0.116177                0.099299   \n",
            "gill-spacing                             -0.213775                0.274574   \n",
            "gill-size                                 0.010894                0.296548   \n",
            "gill-color                                0.257224               -0.058299   \n",
            "stalk-shape                              -0.034399                0.223439   \n",
            "stalk-root                                0.087454                0.157140   \n",
            "stalk-surface-above-ring                  0.437164                0.132708   \n",
            "stalk-surface-below-ring                  1.000000                0.106933   \n",
            "stalk-color-above-ring                    0.106933                1.000000   \n",
            "stalk-color-below-ring                    0.110656                0.491510   \n",
            "veil-type                                      NaN                     NaN   \n",
            "veil-color                               -0.077284                0.067377   \n",
            "ring-number                               0.040006                0.084917   \n",
            "ring-type                                 0.394644               -0.048878   \n",
            "spore-print-color                         0.130974                0.271533   \n",
            "population                                0.046797               -0.240261   \n",
            "habitat                                  -0.039628                0.042561   \n",
            "\n",
            "                          stalk-color-below-ring  veil-type  veil-color  \\\n",
            "class                                  -0.146730        NaN    0.145142   \n",
            "cap-shape                              -0.030390        NaN    0.072560   \n",
            "cap-surface                             0.068885        NaN   -0.016603   \n",
            "cap-color                               0.008057        NaN    0.036130   \n",
            "bruises                                 0.092874        NaN    0.119770   \n",
            "odor                                    0.169407        NaN   -0.057747   \n",
            "gill-attachment                         0.097160        NaN    0.897518   \n",
            "gill-spacing                            0.253505        NaN    0.073363   \n",
            "gill-size                               0.278708        NaN    0.103809   \n",
            "gill-color                             -0.074781        NaN   -0.097583   \n",
            "stalk-shape                             0.235794        NaN    0.162604   \n",
            "stalk-root                              0.159805        NaN    0.156213   \n",
            "stalk-surface-above-ring                0.142835        NaN   -0.090591   \n",
            "stalk-surface-below-ring                0.110656        NaN   -0.077284   \n",
            "stalk-color-above-ring                  0.491510        NaN    0.067377   \n",
            "stalk-color-below-ring                  1.000000        NaN    0.065567   \n",
            "veil-type                                    NaN        NaN         NaN   \n",
            "veil-color                              0.065567        NaN    1.000000   \n",
            "ring-number                             0.087580        NaN    0.036380   \n",
            "ring-type                              -0.034284        NaN   -0.143673   \n",
            "spore-print-color                       0.254518        NaN   -0.003600   \n",
            "population                             -0.242792        NaN    0.124924   \n",
            "habitat                                 0.041594        NaN   -0.040581   \n",
            "\n",
            "                          ring-number  ring-type  spore-print-color  \\\n",
            "class                       -0.214366  -0.411771           0.171961   \n",
            "cap-shape                   -0.106534  -0.025457          -0.073416   \n",
            "cap-surface                 -0.026147  -0.106407           0.230364   \n",
            "cap-color                   -0.005822   0.162513          -0.293523   \n",
            "bruises                      0.056788   0.692973          -0.285008   \n",
            "odor                         0.111905  -0.281387           0.469055   \n",
            "gill-attachment              0.093236  -0.146689          -0.029524   \n",
            "gill-spacing                 0.243014  -0.195897           0.047323   \n",
            "gill-size                   -0.171362  -0.460872           0.622991   \n",
            "gill-color                   0.096054   0.629398          -0.416135   \n",
            "stalk-shape                 -0.293221  -0.291444           0.258831   \n",
            "stalk-root                  -0.247357   0.210155          -0.536996   \n",
            "stalk-surface-above-ring     0.107904   0.390091           0.100764   \n",
            "stalk-surface-below-ring     0.040006   0.394644           0.130974   \n",
            "stalk-color-above-ring       0.084917  -0.048878           0.271533   \n",
            "stalk-color-below-ring       0.087580  -0.034284           0.254518   \n",
            "veil-type                         NaN        NaN                NaN   \n",
            "veil-color                   0.036380  -0.143673          -0.003600   \n",
            "ring-number                  1.000000   0.058312           0.338417   \n",
            "ring-type                    0.058312   1.000000          -0.487048   \n",
            "spore-print-color            0.338417  -0.487048           1.000000   \n",
            "population                  -0.242020   0.211763          -0.126859   \n",
            "habitat                      0.235835  -0.212080           0.185954   \n",
            "\n",
            "                          population   habitat  \n",
            "class                       0.298686  0.217179  \n",
            "cap-shape                   0.063413 -0.042221  \n",
            "cap-surface                 0.021555  0.163887  \n",
            "cap-color                  -0.144770  0.033925  \n",
            "bruises                     0.088137 -0.075095  \n",
            "odor                       -0.043623 -0.026610  \n",
            "gill-attachment             0.165575 -0.030304  \n",
            "gill-spacing               -0.529253 -0.154680  \n",
            "gill-size                   0.147682  0.161418  \n",
            "gill-color                 -0.034090 -0.202972  \n",
            "stalk-shape                 0.087383 -0.269216  \n",
            "stalk-root                 -0.306747 -0.007668  \n",
            "stalk-surface-above-ring    0.079604 -0.058076  \n",
            "stalk-surface-below-ring    0.046797 -0.039628  \n",
            "stalk-color-above-ring     -0.240261  0.042561  \n",
            "stalk-color-below-ring     -0.242792  0.041594  \n",
            "veil-type                        NaN       NaN  \n",
            "veil-color                  0.124924 -0.040581  \n",
            "ring-number                -0.242020  0.235835  \n",
            "ring-type                   0.211763 -0.212080  \n",
            "spore-print-color          -0.126859  0.185954  \n",
            "population                  1.000000 -0.174529  \n",
            "habitat                    -0.174529  1.000000  \n",
            "\n",
            "[23 rows x 23 columns]\n"
          ]
        },
        {
          "output_type": "display_data",
          "data": {
            "text/plain": [
              "<Figure size 432x288 with 2 Axes>"
            ],
            "image/png": "[encoded data removed]"
          },
          "metadata": {
            "needs_background": "light"
          }
        }
      ],
      "source": [
        "corr_matrix = mushrooms_df.corr()\n",
        "sns.heatmap(corr_matrix); # это графическое представление данных, где дополнительные переменные отображаются при помощи цвета\n",
        "print(corr_matrix)"
      ]
    },
    {
      "cell_type": "code",
      "execution_count": null,
      "metadata": {
        "colab": {
          "base_uri": "https://localhost:8080/"
        },
        "id": "TlH9RfM_AStK",
        "outputId": "d1c4bcb6-c745-4fec-b87a-ddd946daa3c1"
      },
      "outputs": [
        {
          "output_type": "execute_result",
          "data": {
            "text/plain": [
              "GridSearchCV(estimator=RadiusNeighborsClassifier(),\n",
              "             param_grid={'radius': array([1, 2, 3, 4, 5, 6, 7, 8, 9])})"
            ]
          },
          "metadata": {},
          "execution_count": 11
        }
      ],
      "source": [
        "# К-ближайших соседей\n",
        "x = mushrooms_df.drop('class', axis = 1)\n",
        "y = mushrooms_df['class']\n",
        "\n",
        "from sklearn.model_selection import train_test_split\n",
        "x_train, x_test, y_train, y_test = train_test_split(x, y) # разделение данных\n",
        "\n",
        "from sklearn.neighbors import RadiusNeighborsClassifier\n",
        "rnc = RadiusNeighborsClassifier() # создание классификатора\n",
        "params = {'radius': np.arange(1, 10)} # создали массив радиусов\n",
        "\n",
        "from sklearn.model_selection import GridSearchCV\n",
        "rnc_grid = GridSearchCV(rnc, params) # нахождение наиболее точного параметра в указанном диапазоне параметров(поиск по сетке и перекрёстнаая проверка)\n",
        "rnc_grid.fit(x_train, y_train) # обучение модели на обучающей выборке\n",
        "# GridSearch — поиск лучших параметров в фиксированной сетке возможных значений.\n",
        "# CV – перекрёстная проверка (кросс-валидация, Cross-validation), метод, который показывает, что модель не переобучилась."
      ]
    },
    {
      "cell_type": "code",
      "execution_count": null,
      "metadata": {
        "colab": {
          "base_uri": "https://localhost:8080/"
        },
        "id": "FjZV0dr494q4",
        "outputId": "687db1f8-ae6d-4ed4-c95f-b1fa73092362"
      },
      "outputs": [
        {
          "output_type": "execute_result",
          "data": {
            "text/plain": [
              "RadiusNeighborsClassifier(radius=1)"
            ]
          },
          "metadata": {},
          "execution_count": 12
        }
      ],
      "source": [
        "best_radius = rnc_grid.best_estimator_.radius # поиск наилучшего радиуса\n",
        "best_accuracy = rnc_grid.best_score_ # точность\n",
        "rnc = RadiusNeighborsClassifier(radius=best_radius)\n",
        "rnc.fit(x_train, y_train)"
      ]
    },
    {
      "cell_type": "code",
      "execution_count": null,
      "metadata": {
        "colab": {
          "base_uri": "https://localhost:8080/"
        },
        "id": "Bm1GlCiU95Ku",
        "outputId": "2c9d8f7c-9551-4642-8581-536752ebd214"
      },
      "outputs": [
        {
          "output_type": "stream",
          "name": "stdout",
          "text": [
            "Accuracy: 0.9876907927129492\n",
            "Best Accuracy: 0.9858857633178019  at radius: 1\n"
          ]
        }
      ],
      "source": [
        "pred = rnc.predict(x_test) #предсказание данных\n",
        "from sklearn.metrics import accuracy_score\n",
        "print(\"Accuracy:\", accuracy_score(y_test, pred)) # оценка точности (Доля правильных ответов на выборке)\n",
        "print('Best Accuracy:', best_accuracy, ' at radius:', best_radius) "
      ]
    },
    {
      "cell_type": "code",
      "execution_count": null,
      "metadata": {
        "colab": {
          "base_uri": "https://localhost:8080/"
        },
        "id": "5J0N76_zCfEz",
        "outputId": "32e64dbc-8a2c-4dee-ae7c-e1b5eef91b67"
      },
      "outputs": [
        {
          "output_type": "stream",
          "name": "stdout",
          "text": [
            "The accuracy of the classifier on training data is 0.95 out of 1\n",
            "The accuracy of the classifier on test data is 0.95 out of 1\n",
            "[[-0.001       0.00266667 -0.00144444 -0.001      -0.013625   -0.005\n",
            "  -0.018       0.02       -0.00136364  0.001      -0.01525    -0.03133333\n",
            "  -0.00233333 -0.00425    -0.00075     0.          0.03133333  0.0095\n",
            "   0.01       -0.0055     -0.0026     -0.002     ]]\n"
          ]
        }
      ],
      "source": [
        "# Персептрон\n",
        "x = mushrooms_df.drop('class', axis = 1)\n",
        "y = mushrooms_df['class']\n",
        "x_train, x_test, y_train, y_test = train_test_split(x, y)\n",
        "\n",
        "from sklearn.linear_model import Perceptron\n",
        "ppn = Perceptron(eta0=0.001) # eta0 - начальная скорость обучения\n",
        "ppn.fit(x_train, y_train) # обучение модели на обучающей выборке\n",
        "\n",
        "print (\"The accuracy of the classifier on training data is {:.2f} out of 1\".format(ppn.score(x_train, y_train)))\n",
        "print (\"The accuracy of the classifier on test data is {:.2f} out of 1\".format(ppn.score(x_test, y_test)))\n",
        "print (ppn.coef_) # даёт массив весов, оцененных линейной регрессией\n"
      ]
    },
    {
      "cell_type": "code",
      "execution_count": null,
      "metadata": {
        "id": "Nidu5zGPCMtC",
        "colab": {
          "base_uri": "https://localhost:8080/"
        },
        "outputId": "d95a406c-beaa-4518-8129-0c98587374fb"
      },
      "outputs": [
        {
          "output_type": "execute_result",
          "data": {
            "text/plain": [
              "Perceptron(alpha=0.03, eta0=0.001, penalty='L1')"
            ]
          },
          "metadata": {},
          "execution_count": 15
        }
      ],
      "source": [
        "#Регуляризация - метод добавления некоторых дополнительных ограничений к условию \n",
        "#               с целью решить некорректно поставленную задачу или предотвратить переобучение\n",
        "x = mushrooms_df.drop('class', axis = 1)\n",
        "y = mushrooms_df['class']\n",
        "x_train, x_test, y_train, y_test = train_test_split(x, y)\n",
        "\n",
        "ppn = Perceptron(eta0=0.001, penalty = \"L1\", alpha = 0.03)\n",
        "ppn.fit(x_train, y_train)"
      ]
    },
    {
      "cell_type": "code",
      "execution_count": null,
      "metadata": {
        "colab": {
          "base_uri": "https://localhost:8080/"
        },
        "id": "Svrw-S5NASDD",
        "outputId": "ca561526-d19e-44e9-b158-4e2289585821"
      },
      "outputs": [
        {
          "output_type": "stream",
          "name": "stdout",
          "text": [
            "The accuracy of the classifier on training data is 0.89 out of 1\n",
            "The accuracy of the classifier on test data is 0.90 out of 1\n",
            "[[ 0.       0.       0.      -0.00126  0.       0.      -0.00126  0.00226\n",
            "   0.       0.       0.       0.       0.       0.       0.       0.\n",
            "   0.       0.       0.       0.       0.       0.     ]]\n"
          ]
        }
      ],
      "source": [
        "print (\"The accuracy of the classifier on training data is {:.2f} out of 1\".format(ppn.score(x_train, y_train)))\n",
        "print (\"The accuracy of the classifier on test data is {:.2f} out of 1\".format(ppn.score(x_test, y_test)))\n",
        "print (ppn.coef_)"
      ]
    },
    {
      "cell_type": "code",
      "execution_count": null,
      "metadata": {
        "id": "5U2bC-7gB4HJ"
      },
      "outputs": [],
      "source": [
        "# PR\n",
        "from sklearn.multiclass import OneVsRestClassifier\n",
        "from sklearn.metrics import precision_recall_curve\n",
        "from sklearn.metrics import average_precision_score\n",
        "from sklearn import svm\n",
        "from sklearn.preprocessing import StandardScaler\n",
        "from sklearn.svm import LinearSVC"
      ]
    },
    {
      "cell_type": "code",
      "execution_count": null,
      "metadata": {
        "id": "-Q62usQqCD1R",
        "colab": {
          "base_uri": "https://localhost:8080/",
          "height": 312
        },
        "outputId": "c3d0f344-a557-48c6-c7f1-ddc9a2d7d0e7"
      },
      "outputs": [
        {
          "output_type": "execute_result",
          "data": {
            "text/plain": [
              "Text(0.5, 1.0, 'precision_recall_curve')"
            ]
          },
          "metadata": {},
          "execution_count": 20
        },
        {
          "output_type": "display_data",
          "data": {
            "text/plain": [
              "<Figure size 432x288 with 1 Axes>"
            ],
            "image/png": "[encoded data removed]"
          },
          "metadata": {
            "needs_background": "light"
          }
        }
      ],
      "source": [
        "\n",
        "y_score = ppn.decision_function(x_test) # функция принятия решений\n",
        "\n",
        "precision = dict()  # создание массива, (точность)\n",
        "recall = dict() # полнота\n",
        "\n",
        "for i in range (2):\n",
        "\n",
        "  precision[i], recall[i], _ = precision_recall_curve(y_test,\n",
        "                                                      y_score) # создание кривой \n",
        "  plt.plot(recall[i],precision[i], label = 'class {}'.format(i))\n",
        "\n",
        "plt.xlabel(\"Recall\") # отзыв\n",
        "plt.ylabel(\"precision\") # точность\n",
        "plt.legend(loc = \"best\")\n",
        "plt.title(\"precision_recall_curve\")"
      ]
    },
    {
      "cell_type": "code",
      "execution_count": null,
      "metadata": {
        "colab": {
          "base_uri": "https://localhost:8080/",
          "height": 312
        },
        "id": "X82ERxHydpNl",
        "outputId": "ca3f4dea-397a-4d20-9da0-7e9cecd198a3"
      },
      "outputs": [
        {
          "output_type": "execute_result",
          "data": {
            "text/plain": [
              "Text(0.5, 1.0, 'Receiver operating characteristic example')"
            ]
          },
          "metadata": {},
          "execution_count": 21
        },
        {
          "output_type": "display_data",
          "data": {
            "text/plain": [
              "<Figure size 432x288 with 1 Axes>"
            ],
            "image/png": "[encoded data removed]"
          },
          "metadata": {
            "needs_background": "light"
          }
        }
      ],
      "source": [
        "# ROC - Вычислить рабочую характеристику приемника\n",
        "from sklearn.metrics import roc_curve\n",
        "\n",
        "fpr = dict() # Ошибка 1 рода(МБ)\n",
        "tpr = dict() # Ошибка 1 рода(ЖНБ)\n",
        "\n",
        "for i in range(2):\n",
        "  fpr[i], tpr[i], _ = roc_curve(y_test, y_score) \n",
        "  \n",
        "  plt.plot(fpr[i],tpr[i], label = 'class {}'.format(i))\n",
        "\n",
        "plt.xlabel(\"False Positive Rate\")\n",
        "plt.ylabel(\"True Positive Rate\")\n",
        "plt.legend(loc = \"best\")\n",
        "plt.title(\"Receiver operating characteristic example\")\n"
      ]
    }
  ],
  "metadata": {
    "colab": {
      "name": "Лаба 3.ipynb",
      "toc_visible": true,
      "provenance": []
    },
    "kernelspec": {
      "display_name": "Python 3",
      "name": "python3"
    },
    "language_info": {
      "name": "python"
    }
  },
  "nbformat": 4,
  "nbformat_minor": 0
}